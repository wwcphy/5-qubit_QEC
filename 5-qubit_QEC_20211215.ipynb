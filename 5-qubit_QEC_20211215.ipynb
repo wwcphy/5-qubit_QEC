{
 "cells": [
  {
   "cell_type": "code",
   "execution_count": 1,
   "id": "e8d02ec9-45d5-46d6-a061-3d13cb37e6d6",
   "metadata": {},
   "outputs": [],
   "source": [
    "import numpy as np\n",
    "import matplotlib.pyplot as plt \n",
    "\n",
    "# Importing standard Qiskit libraries\n",
    "from qiskit import QuantumCircuit, transpile, Aer, IBMQ\n",
    "from qiskit.tools.jupyter import *\n",
    "from qiskit.visualization import *\n",
    "from ibm_quantum_widgets import *\n",
    "from qiskit.providers.aer import QasmSimulator\n",
    "\n",
    "# Loading your IBM Quantum account(s)\n",
    "provider = IBMQ.load_account()"
   ]
  },
  {
   "cell_type": "markdown",
   "id": "899ec6d0-7160-4537-8790-2826323ff4d6",
   "metadata": {},
   "source": [
    "## 1. Project Introduction\n",
    "### 1.1 Hardware"
   ]
  },
  {
   "cell_type": "code",
   "execution_count": 160,
   "id": "716fac02-b523-4aa6-8125-9c0865f44bf9",
   "metadata": {},
   "outputs": [
    {
     "name": "stdout",
     "output_type": "stream",
     "text": [
      "True 33\n"
     ]
    },
    {
     "data": {
      "application/vnd.jupyter.widget-view+json": {
       "model_id": "db36886ee177475ea2a3b0b5eb82acc5",
       "version_major": 2,
       "version_minor": 0
      },
      "text/plain": [
       "VBox(children=(HTML(value=\"<h1 style='color:#ffffff;background-color:#000000;padding-top: 1%;padding-bottom: 1…"
      ]
     },
     "metadata": {},
     "output_type": "display_data"
    },
    {
     "data": {
      "text/plain": [
       "<IBMQBackend('ibmq_manila') from IBMQ(hub='ibm-q', group='open', project='main')>"
      ]
     },
     "execution_count": 160,
     "metadata": {},
     "output_type": "execute_result"
    }
   ],
   "source": [
    "# check ibmq quantum computer availability\n",
    "provider = IBMQ.get_provider(hub='ibm-q')\n",
    "backend = provider.get_backend('ibmq_manila')\n",
    "print(backend.status().operational, backend.status().pending_jobs)\n",
    "# backend\n",
    "provider.get_backend('ibmq_manila')"
   ]
  },
  {
   "cell_type": "markdown",
   "id": "b4b4d54c-dd59-4563-918e-f0a9b2f993cc",
   "metadata": {},
   "source": [
    "## 2. Encoding\n",
    "### 2.1 Circuit with nearest-neighbour gates"
   ]
  },
  {
   "cell_type": "code",
   "execution_count": 3,
   "id": "d0def6ac-e13d-4e98-b6b3-a5540ce1fa29",
   "metadata": {},
   "outputs": [],
   "source": [
    "# Define encoding circuit function.\n",
    "def encoding_5q_code(circ, reg_q, reg_c=()):\n",
    "    \"\"\"\n",
    "    Take a QuantumCircuit() and encode 5-qubit\n",
    "    error correction code.\n",
    "    \"\"\"\n",
    "    \n",
    "    # 1\n",
    "    circ.s(reg_q[0])\n",
    "    circ.h(reg_q[2])\n",
    "    circ.h(reg_q[4])\n",
    "\n",
    "    # 2\n",
    "    circ.cx(reg_q[2], reg_q[1])\n",
    "    circ.cx(reg_q[4], reg_q[3])\n",
    "    \n",
    "    # 3\n",
    "    circ.h(reg_q[1])\n",
    "    circ.cx(reg_q[2], reg_q[3])\n",
    "    circ.s(reg_q[4])\n",
    "    \n",
    "    # 4\n",
    "    circ.s(reg_q[2])\n",
    "    circ.sdg(reg_q[3])\n",
    "    circ.swap(reg_q[2],reg_q[3])\n",
    "    \n",
    "    # 5\n",
    "    circ.cx(reg_q[1], reg_q[0])\n",
    "    circ.s(reg_q[0])\n",
    "    circ.s(reg_q[1])\n",
    "\n",
    "    # 6 \n",
    "    circ.swap(reg_q[1],reg_q[2])\n",
    "    \n",
    "    # 7\n",
    "    circ.cx(reg_q[1], reg_q[0])\n",
    "    \n",
    "    # 8\n",
    "    circ.h(reg_q[1])\n",
    "    \n",
    "    # 9\n",
    "    circ.cx(reg_q[1], reg_q[2])\n",
    "    \n",
    "    return circ"
   ]
  },
  {
   "cell_type": "code",
   "execution_count": 4,
   "id": "44536090-bd52-4c26-be2f-457559702d7c",
   "metadata": {},
   "outputs": [
    {
     "data": {
      "image/png": "[encoded data removed]",
      "text/plain": [
       "<Figure size 628.397x385.28 with 1 Axes>"
      ]
     },
     "execution_count": 4,
     "metadata": {},
     "output_type": "execute_result"
    }
   ],
   "source": [
    "# Encoding circuit diagram\n",
    "from qiskit import QuantumRegister, ClassicalRegister\n",
    "import qiskit.quantum_info as qqi\n",
    "\n",
    "reg_q = QuantumRegister(5,'q')\n",
    "reg_c = ClassicalRegister(5,'cl')\n",
    "a,b = 1, 0 #1./np.sqrt(2),1./np.sqrt(2)\n",
    "\n",
    "circ = QuantumCircuit(reg_q,reg_c)\n",
    "encoding_5q_code(circ, reg_q)\n",
    "circ.draw('mpl')\n",
    "# fig = circ.draw('mpl')\n",
    "# fig.savefig('encoding_circuit.png',dpi=300,bbox_inches='tight')"
   ]
  },
  {
   "cell_type": "markdown",
   "id": "071dac72-a842-4ca7-8de1-cba6c479907d",
   "metadata": {
    "tags": []
   },
   "source": [
    "### [[5,1,3]] stabilizer group and code space"
   ]
  },
  {
   "cell_type": "code",
   "execution_count": 5,
   "id": "508d0f5b-3845-46b6-a214-24f3956b0e4c",
   "metadata": {},
   "outputs": [],
   "source": [
    "# 5-qubit stabilizer group with relabeled order\n",
    "g0 = qqi.Operator(qqi.Pauli('IIIII'))\n",
    "g1 = qqi.Operator(qqi.Pauli('XIZXZ'))\n",
    "g2 = qqi.Operator(qqi.Pauli('IXXZZ'))\n",
    "g3 = qqi.Operator(qqi.Pauli('XZIZX'))\n",
    "g4 = qqi.Operator(qqi.Pauli('ZZXXI'))\n",
    "\n",
    "logical_Z = qqi.Operator(qqi.Pauli('ZZZZZ'))\n",
    "logical_X = qqi.Operator(qqi.Pauli('XXXXX'))\n",
    "logical_Y = qqi.Operator(qqi.Pauli('YYYYY'))\n",
    "\n",
    "# a,b = 1,0\n",
    "g5 = (a*np.conj(a)-b*np.conj(b))*logical_Z + \\\n",
    "    (np.conj(a)*b+np.conj(b)*a)*logical_X + \\\n",
    "    -1j*(np.conj(a)*b-np.conj(b)*a)*logical_Y\n",
    "\n",
    "g_list = [g1,g2,g3,g4]\n",
    "g_list5 = [g1,g2,g3,g4,g5]\n",
    "\n",
    "# array_to_latex(g5.data,max_size=2**5)"
   ]
  },
  {
   "cell_type": "markdown",
   "id": "768b2a94-1f29-455c-96a8-b47069e32d66",
   "metadata": {},
   "source": [
    "### 2.2 Calculation of logical states\n",
    "#### classical simulation"
   ]
  },
  {
   "cell_type": "code",
   "execution_count": 6,
   "id": "cf025d16-41bd-4cda-b06d-5efd9e21d6c0",
   "metadata": {},
   "outputs": [
    {
     "data": {
      "text/latex": [
       "$$\\frac{1}{4} |00000\\rangle- \\frac{1}{4} |00011\\rangle- \\frac{1}{4} |00101\\rangle+\\frac{1}{4} |00110\\rangle+\\frac{1}{4} |01001\\rangle- \\frac{1}{4} |01010\\rangle + \\ldots - \\frac{1}{4} |10111\\rangle- \\frac{1}{4} |11000\\rangle- \\frac{1}{4} |11011\\rangle- \\frac{1}{4} |11101\\rangle- \\frac{1}{4} |11110\\rangle$$"
      ],
      "text/plain": [
       "<IPython.core.display.Latex object>"
      ]
     },
     "execution_count": 6,
     "metadata": {},
     "output_type": "execute_result"
    }
   ],
   "source": [
    "# Logical qubit |0_L> and |1_L>, a|0_L>+b|1_L>\n",
    "logical0 = qqi.Statevector.from_int(0, 2**5)\n",
    "logical1 = qqi.Statevector.from_int(1, 2**5)\n",
    "logical_ab = a*logical0+b*logical1\n",
    "logical0 = logical0.evolve(circ)\n",
    "logical1 = logical1.evolve(circ)\n",
    "logical_ab = logical_ab.evolve(circ)\n",
    "# logical0_data = np.array([1/4,...])\n",
    "\n",
    "# logical0.dat\n",
    "# array_to_latex(logical0.data,max_size=2**5)\n",
    "logical0.draw('latex')"
   ]
  },
  {
   "cell_type": "code",
   "execution_count": 7,
   "id": "bf509b29-f8d7-4643-8936-ad2c8bc13e36",
   "metadata": {},
   "outputs": [
    {
     "data": {
      "text/latex": [
       "$$\\frac{1}{4} |00000\\rangle- \\frac{1}{4} |00011\\rangle- \\frac{1}{4} |00101\\rangle+\\frac{1}{4} |00110\\rangle$$$$\\frac{1}{4} |01001\\rangle- \\frac{1}{4} |01010\\rangle+\\frac{1}{4} |01100\\rangle- \\frac{1}{4} |01111\\rangle$$$$\\frac{1}{4} |10001\\rangle+\\frac{1}{4} |10010\\rangle- \\frac{1}{4} |10100\\rangle- \\frac{1}{4} |10111\\rangle$$$$- \\frac{1}{4} |11000\\rangle- \\frac{1}{4} |11011\\rangle- \\frac{1}{4} |11101\\rangle- \\frac{1}{4} |11110\\rangle$$"
      ],
      "text/plain": [
       "<IPython.core.display.Latex object>"
      ]
     },
     "execution_count": 7,
     "metadata": {},
     "output_type": "execute_result"
    }
   ],
   "source": [
    "# Display logical state in latex because qiskit Statevector.draw('latex') method can't display so many terms.\n",
    "state_view = []\n",
    "# data_view = []\n",
    "# Split a 16-term logical state into 4*4 states to display.\n",
    "for i in range(4):\n",
    "    data_ori = np.zeros(2**5,dtype=np.cdouble)\n",
    "    sl = slice(i*2**3,(i+1)*2**3)\n",
    "    data_ori[sl] = logical0.data[sl]\n",
    "    # data_view.append(data_ori)\n",
    "    state_view.append(qqi.Statevector(data=data_ori))\n",
    "    \n",
    "latex_str = ''\n",
    "for view in state_view:\n",
    "    latex_str += view.draw('latex').data\n",
    "jpt_display = state_view[0].draw('latex')\n",
    "jpt_display.data = latex_str\n",
    "jpt_display"
   ]
  },
  {
   "cell_type": "code",
   "execution_count": 8,
   "id": "6556bc19-de4b-4f95-b66d-5d82eded57ab",
   "metadata": {},
   "outputs": [
    {
     "data": {
      "image/png": "[encoded data removed]",
      "text/plain": [
       "<Figure size 1080x576 with 2 Axes>"
      ]
     },
     "metadata": {},
     "output_type": "display_data"
    }
   ],
   "source": [
    "# visualize |0_L>, |1_L> (Hinton plot)\n",
    "# white block \\rho_ij > 0, black block \\rho_ij < 0\n",
    "from qiskit.visualization import plot_state_city, plot_state_hinton, plot_bloch_multivector\n",
    "\n",
    "fig, ax = plt.subplots(1,2,figsize=(15,8))\n",
    "fig.patch.set_facecolor('white')\n",
    "plot_state_hinton(logical0,ax_real=ax[0])\n",
    "plot_state_hinton(logical1,ax_real=ax[1])\n",
    "ax[0].set_title(r\"$\\left|0_L\\right\\rangle$ Hinton Plot, Re[$\\rho$]\",fontsize=15)\n",
    "ax[1].set_title(r\"$\\left|1_L\\right\\rangle$ Hinton Plot, Re[$\\rho$]\",fontsize=15)\n",
    "plt.show()\n",
    "# fig.savefig('logical_hinton.png',dpi=300,bbox_inches='tight')"
   ]
  },
  {
   "cell_type": "markdown",
   "id": "28b568c0-33ae-45ea-b0ef-682522b6b0c7",
   "metadata": {},
   "source": [
    "#### on quantum computer"
   ]
  },
  {
   "cell_type": "code",
   "execution_count": 9,
   "id": "7bf7bf8d-bd21-42a8-b926-e3a303db441a",
   "metadata": {},
   "outputs": [
    {
     "name": "stdout",
     "output_type": "stream",
     "text": [
      "id: 872a6d2f342f4842a24774cc40c14db7-16394550880382867\n"
     ]
    },
    {
     "data": {
      "image/png": "[encoded data removed]",
      "text/plain": [
       "<Figure size 1019.88x385.28 with 1 Axes>"
      ]
     },
     "execution_count": 9,
     "metadata": {},
     "output_type": "execute_result"
    }
   ],
   "source": [
    "# encode and visualize |0_L> and |+_L>\n",
    "from qiskit.providers.ibmq.managed import IBMQJobManager\n",
    "\n",
    "coeff_0 = [1., 0.]  # |0_L>\n",
    "coeff_plus = [1./np.sqrt(2), 1./np.sqrt(2)]  # |+_L>\n",
    "\n",
    "circ_0 = QuantumCircuit(reg_q)\n",
    "circ_plus = QuantumCircuit(reg_q)\n",
    "circ_0.initialize(params=coeff_0,qubits=0)\n",
    "circ_plus.initialize(params=coeff_plus,qubits=0)\n",
    "encoding_5q_code(circ_0, reg_q)\n",
    "encoding_5q_code(circ_plus, reg_q)\n",
    "circ_0.measure_all()\n",
    "circ_plus.measure_all()\n",
    "circ_list = [circ_0,circ_plus]\n",
    "\n",
    "run_or_not = False\n",
    "if run_or_not:\n",
    "    provider = IBMQ.get_provider(hub='ibm-q')\n",
    "    backend = provider.get_backend('ibmq_manila')\n",
    "    circ_complie = transpile(circ_list, backend=backend)\n",
    "    job_manager = IBMQJobManager()\n",
    "    job_set = job_manager.run(circ_complie, backend=backend, shots=1024)\n",
    "else:\n",
    "    job_set_id = '872a6d2f342f4842a24774cc40c14db7-16394550880382867'\n",
    "    job_manager = IBMQJobManager()\n",
    "    job_set = job_manager.retrieve_job_set(job_set_id,provider)\n",
    "\n",
    "print('id: {}'.format(job_set_id))\n",
    "circ_0.draw('mpl')"
   ]
  },
  {
   "cell_type": "code",
   "execution_count": 10,
   "id": "c390f806-c157-4e7b-a888-a6825874de63",
   "metadata": {},
   "outputs": [
    {
     "data": {
      "image/png": "[encoded data removed]",
      "text/plain": [
       "<Figure size 1296x432 with 2 Axes>"
      ]
     },
     "metadata": {},
     "output_type": "display_data"
    }
   ],
   "source": [
    "# visualizations\n",
    "from qiskit.visualization import plot_histogram\n",
    "\n",
    "fig, ax = plt.subplots(1,2,sharey=True,figsize=(18,6),gridspec_kw ={'wspace':0.05})\n",
    "fig.patch.set_facecolor('white')\n",
    "counts_0 = job_set.results().get_counts(0)\n",
    "counts_plus = job_set.results().get_counts(1)\n",
    "\n",
    "plot_histogram(counts_0,ax=ax[0])\n",
    "plot_histogram(counts_plus,ax=ax[1])\n",
    "ax[0].set_title(r'$\\rho_0$ in 0/1 basis',fontsize=18)\n",
    "ax[1].set_title(r'$\\rho_+$ in 0/1 basis',fontsize=18)\n",
    "ax[0].grid(axis='y',color='k',ls='--',lw=0.5)\n",
    "ax[1].grid(axis='y',color='k',ls='--',lw=0.5)\n",
    "plt.show()\n",
    "# fig.savefig('logical_histogram.png',dpi=300,bbox_inches='tight')"
   ]
  },
  {
   "cell_type": "markdown",
   "id": "93cb78c8-97d1-467c-8da4-a9fd3c3b6f5b",
   "metadata": {},
   "source": [
    "## 3. Verification of error syndrome\n",
    "### 3.1 Ideal error syndromes"
   ]
  },
  {
   "cell_type": "code",
   "execution_count": 11,
   "id": "daa1650f-efd8-4a3c-a624-afbda87a7a4c",
   "metadata": {},
   "outputs": [
    {
     "name": "stdout",
     "output_type": "stream",
     "text": [
      "(5, 3, 4)\n"
     ]
    }
   ],
   "source": [
    "# syndrome table shape = (qubit, error, stabilizer)\n",
    "# Note there is no qiskit rule qubit ordering problem.\n",
    "syndrome_table = np.array([\n",
    "    [[1,1,1,-1],[-1,1,-1,-1],[-1,1,-1,1]],\n",
    "    [[1,1,-1,-1],[1,-1,-1,-1],[1,-1,1,1]],\n",
    "    [[-1,1,1,1],[-1,-1,1,-1],[1,-1,1,-1]],\n",
    "    [[1,-1,-1,1],[-1,-1,-1,-1],[-1,1,1,-1]],\n",
    "    [[-1,-1,1,1],[-1,-1,-1,1],[1,1,-1,1]]\n",
    "])\n",
    "print(syndrome_table.shape)"
   ]
  },
  {
   "cell_type": "markdown",
   "id": "0cb1944a-6bfc-4c56-ba7a-c458b647ed81",
   "metadata": {},
   "source": [
    "### 3.2 Actual error syndromes verification"
   ]
  },
  {
   "cell_type": "code",
   "execution_count": 12,
   "id": "962f18fc-7816-4995-8fdb-23f995558031",
   "metadata": {},
   "outputs": [],
   "source": [
    "# string for stabilizer operator [g1 ,g2, g3, g4]\n",
    "str_g = ['xizxz','ixxzz','xzizx','zzxxi']\n",
    " \n",
    "def tomo_gi_transform(circ,str_gi):\n",
    "    \"\"\"\n",
    "    Apply tomographyical transformations according to g.\n",
    "    \n",
    "    Parameters\n",
    "    ----------\n",
    "    circ : qiskit.QuantumCircuit()\n",
    "        circ to operate\n",
    "    str_gi : string\n",
    "        string of stabilizer\n",
    "    \"\"\"\n",
    "    for i_qubit, tomo_gate in enumerate(str_gi):\n",
    "        # 'i': nothing; 'x': apply H; 'y': apply SH; 'z': nothing\n",
    "        if tomo_gate == 'x':\n",
    "            circ.h(i_qubit)\n",
    "        elif tomo_gate == 'y':\n",
    "            circ.h(i_qubit)\n",
    "            circ.s(i_qubit)  # phase gate diag(1, i)\n",
    "    return circ"
   ]
  },
  {
   "cell_type": "code",
   "execution_count": 13,
   "id": "ef6ef9d1-2e6d-4c60-9250-4ddfa2bf46f6",
   "metadata": {},
   "outputs": [],
   "source": [
    "def syndrome_verification_circ(coeff):\n",
    "    \"\"\"\n",
    "    Create sydrome verification circuits with intentionally injected error \n",
    "    and tomographically apply transformations according to g.\n",
    "    \n",
    "    Parameters\n",
    "    ----------\n",
    "    coeff : array_like, shape (2, )\n",
    "        coefficient [a, b] for logical state. |\\psi>=a|0_L>+b|1_L>\n",
    "    \"\"\"\n",
    "    circ_error = []\n",
    "    errorname = ['x','y','z']\n",
    "\n",
    "    for i_qubit in range(5):\n",
    "        circ_temp = []\n",
    "        for r_error in errorname:\n",
    "            circ_r = []\n",
    "            for str_gi in str_g:\n",
    "                # create a new circ_s_c with r_error gate on i_qubit, then\n",
    "                # generate expectation of stabilizer gi by tomography\n",
    "\n",
    "                # 1. initialize new circuit\n",
    "                reg_q_temp = QuantumRegister(5,'q')\n",
    "                circ_r_s = QuantumCircuit(reg_q_temp)\n",
    "                circ_r_s.initialize(params=coeff,qubits=0)\n",
    "                # 2. encoding\n",
    "                encoding_5q_code(circ_r_s,reg_q_temp)\n",
    "                # 3. inject error\n",
    "                circ_r_s.barrier()\n",
    "                getattr(circ_r_s,r_error)(i_qubit)\n",
    "                # 4. apply tomographyical transformation\n",
    "                circ_r_s.barrier()\n",
    "                tomo_gi_transform(circ_r_s,str_gi)\n",
    "                # 5. measure all qubits in |0>, |1>\n",
    "                circ_r_s.measure_all()\n",
    "\n",
    "                circ_r.append(circ_r_s)\n",
    "            circ_temp += circ_r\n",
    "        circ_error += circ_temp\n",
    "    return circ_error"
   ]
  },
  {
   "cell_type": "code",
   "execution_count": 103,
   "id": "e6c6bdb6-cbd3-49ec-bcb1-c7990a4c8eb5",
   "metadata": {},
   "outputs": [],
   "source": [
    "# run syndrome verification circuits on ibmq\n",
    "def run_circuits(circ_list,qc_name,shots,task_name):\n",
    "    \"\"\"\n",
    "    Run a list of circuits on ibmq quantum computer and \n",
    "    output job_set_id and job_set.\n",
    "    \n",
    "    Parameters\n",
    "    ----------\n",
    "    circ_list : array_like, shape (n, )\n",
    "        list of qiskit.QuantumCircuit() to run\n",
    "    qc_name : string\n",
    "        name of backend\n",
    "    shots : int\n",
    "        Number of repetitions of each circuit, for sampling.\n",
    "    task_name : string\n",
    "        job_set name\n",
    "    \"\"\"\n",
    "    provider = IBMQ.get_provider(hub='ibm-q')\n",
    "    backend = provider.get_backend(qc_name)\n",
    "    circ_complie = transpile(circ_list, backend=backend)\n",
    "    job_manager = IBMQJobManager()\n",
    "    job_set = job_manager.run(circ_complie, backend=backend, shots=shots, name=task_name)\n",
    "\n",
    "    job_set_id = job_set.job_set_id()\n",
    "    # job_set = job_manager.retrieve_job_set(job_set_id=job_set_id)\n",
    "\n",
    "    # jobs = job_set.jobs()\n",
    "    # results = job_set.results()\n",
    "    \n",
    "    return job_set_id, job_set "
   ]
  },
  {
   "cell_type": "code",
   "execution_count": 159,
   "id": "585f25d0-5063-4c74-a540-fc6127694173",
   "metadata": {},
   "outputs": [
    {
     "name": "stdout",
     "output_type": "stream",
     "text": [
      "60\n"
     ]
    },
    {
     "data": {
      "image/png": "[encoded data removed]",
      "text/plain": [
       "<Figure size 1834.55x535.111 with 1 Axes>"
      ]
     },
     "execution_count": 159,
     "metadata": {},
     "output_type": "execute_result"
    }
   ],
   "source": [
    "# generate circuit lists\n",
    "coeff_0 = [1., 0.]  # |0_L>\n",
    "coeff_plus = [1./np.sqrt(2), 1./np.sqrt(2)]  # |+_L>\n",
    "\n",
    "circ_error_0 = syndrome_verification_circ(coeff_0)\n",
    "circ_error_plus = syndrome_verification_circ(coeff_plus)\n",
    "\n",
    "# check and visualize created circuits\n",
    "print(len(circ_error_0))\n",
    "circ_error_plus[12].draw()\n",
    "# fig = circ_error_plus[12].draw('mpl')\n",
    "# fig.savefig('plus_2X_circuit.png',dpi=300,bbox_inches='tight')"
   ]
  },
  {
   "cell_type": "code",
   "execution_count": 16,
   "id": "475d7157-3e40-4f20-bbd8-3ca833e86baa",
   "metadata": {},
   "outputs": [
    {
     "name": "stdout",
     "output_type": "stream",
     "text": [
      "|0_L>: 200f71978bc541578b77b3fec461cf6c-16393620386375632\n",
      "|+_L>: d4c5eb1319a04dccb0e8a47c714a59c6-16393620409830256\n"
     ]
    }
   ],
   "source": [
    "# run syndrome verification for |0_L> and |+_L>\n",
    "run_or_not = False\n",
    "qc = 'ibmq_manila'\n",
    "n_shot = 1024\n",
    "if run_or_not:\n",
    "    job_set_id_syn_0, job_set_syn_0 = run_circuits(circ_error_0,qc_name=qc,shots=n_shot,task_name='syndrome_0')\n",
    "    job_set_id_syn_plus, job_set_syn_plus = run_circuits(circ_error_plus,qc_name=qc,shots=n_shot,task_name='syndrome_plus')\n",
    "else:\n",
    "    job_set_id_syn_0 = '200f71978bc541578b77b3fec461cf6c-16393620386375632'\n",
    "    # shots=1024 job: '200f71978bc541578b77b3fec461cf6c-16393620386375632'\n",
    "    # shots=2**14 job: '11b34651c7d34209853d2795c8b3d5a1-16394988120550692'\n",
    "    job_set_id_syn_plus = 'd4c5eb1319a04dccb0e8a47c714a59c6-16393620409830256'\n",
    "    # shots=1024 job: 'd4c5eb1319a04dccb0e8a47c714a59c6-16393620409830256'\n",
    "    # shots=2**14 job: 'dc9e95d650fd4dfc80448f3c1ed51a60-16394988154732933'\n",
    "    job_manager = IBMQJobManager()\n",
    "    job_set_syn_0 = job_manager.retrieve_job_set(job_set_id_syn_0,provider)\n",
    "    job_set_syn_plus = job_manager.retrieve_job_set(job_set_id_syn_plus,provider)\n",
    "    \n",
    "print('|0_L>: {}'.format(job_set_id_syn_0))\n",
    "print('|+_L>: {}'.format(job_set_id_syn_plus))\n",
    "\n",
    "# job_set = job_manager.retrieve_job_set(job_set_id=job_set_id)"
   ]
  },
  {
   "cell_type": "markdown",
   "id": "de4c9f33-8d0e-4713-910e-f90160636f5f",
   "metadata": {},
   "source": [
    "#### data processing: counts to Stokes parameters"
   ]
  },
  {
   "cell_type": "code",
   "execution_count": 156,
   "id": "b0699a3e-363e-4d9e-b346-885e68f0e48a",
   "metadata": {},
   "outputs": [],
   "source": [
    "# reshape counts in job_set\n",
    "def counts_reshape(job_set):\n",
    "    # counts_all = nd.array(job_set.results().get_counts())\n",
    "    # counts_all = counts_all.reshape(5,3)\n",
    "    results = job_set.results()\n",
    "    counts_all = []\n",
    "    for i_qubit in range(5):\n",
    "        counts_i_qubit = []\n",
    "        for j_error in range(3):\n",
    "            count_j_error = []\n",
    "            for k_stabilizer in range(4):\n",
    "                c_index = i_qubit*3*4 + j_error*4 + k_stabilizer\n",
    "                count_j_error.append(results.get_counts(c_index))\n",
    "            counts_i_qubit.append(count_j_error)\n",
    "        counts_all.append(counts_i_qubit)\n",
    "    return np.array(counts_all)\n",
    "\n",
    "# find the row of desired g in expectation values\n",
    "def g_row(str_g):\n",
    "    g_row_list = []\n",
    "    for str_gi in str_g:\n",
    "        row = 0\n",
    "        # print(str_gi[::-1])\n",
    "        for ith, i_char in enumerate(str_gi):\n",
    "            if i_char != 'i':\n",
    "                row += 2**ith\n",
    "        g_row_list.append(row)\n",
    "    return g_row_list\n",
    "\n",
    "# generate the transformation matrix T\n",
    "def transform_T5():\n",
    "    matrix_T1 = np.array([[1,1],[1,-1]])\n",
    "    matrix_T5 = matrix_T1\n",
    "    for i in range(5-1):\n",
    "        matrix_T5 = np.kron(matrix_T5,matrix_T1)\n",
    "    return matrix_T5\n",
    "\n",
    "# generate basis state in string (e.g., '00110') in corresponding order\n",
    "basis_list = []\n",
    "for ith in range(2**5):\n",
    "    basis_list.append(str(format(ith+2**5,'b'))[1:])\n",
    "basis_list = np.array(basis_list)\n",
    "    \n",
    "# matrix multiply of transform T and counts\n",
    "def T5_counts(T5_row,counts_gi):\n",
    "    counts_col = []\n",
    "    for basis in basis_list:\n",
    "        if basis in counts_gi:\n",
    "            counts_col.append(counts_gi[basis])\n",
    "        else:\n",
    "            counts_col.append(0)\n",
    "    counts_col = np.array(counts_col)\n",
    "    exp_value = np.dot(T5_row,counts_col)\n",
    "    return exp_value\n",
    "\n",
    "# generate all expectation value for gi from all counts\n",
    "def stabilizer_expectation(counts_all,matrix_T5,g_row_list,n_shot):\n",
    "    expectation = []\n",
    "    for i_qubit in range(5):\n",
    "        exp_i_qubit = []\n",
    "        for j_error in range(3):\n",
    "            exp_j_error = []\n",
    "            for k_stabilizer in range(4):\n",
    "                prob_ijk = T5_counts(matrix_T5[g_row_list[k_stabilizer]],counts_all[i_qubit,j_error,k_stabilizer])/n_shot\n",
    "                exp_j_error.append(prob_ijk)\n",
    "            exp_i_qubit.append(exp_j_error)\n",
    "        expectation.append(exp_i_qubit)\n",
    "    return np.array(expectation)\n",
    "\n",
    "# standard deviation for gi from all counts\n",
    "def stabilizer_std(counts_all,matrix_T5,g_row_list,n_shot):\n",
    "    std = np.sqrt(1-stabilizer_expectation(counts_all,matrix_T5,g_row_list,n_shot)**2)\n",
    "    return np.array(std)"
   ]
  },
  {
   "cell_type": "code",
   "execution_count": 157,
   "id": "7510bd3c-8b2d-4373-97bd-c34bd1cda751",
   "metadata": {},
   "outputs": [
    {
     "data": {
      "text/plain": [
       "(array([[[ 0.0703125 ,  0.4453125 ,  0.45117188, -0.0546875 ],\n",
       "         [-0.12109375,  0.44921875, -0.40820312, -0.09179688],\n",
       "         [-0.12109375,  0.45898438, -0.40820312,  0.14257812]],\n",
       " \n",
       "        [[ 0.13085938,  0.421875  , -0.42773438, -0.08398438],\n",
       "         [ 0.1015625 , -0.41210938, -0.40820312, -0.11914062],\n",
       "         [ 0.140625  , -0.4453125 ,  0.43945312,  0.13671875]],\n",
       " \n",
       "        [[-0.16015625,  0.37695312,  0.45117188,  0.11132812],\n",
       "         [-0.1484375 , -0.43359375,  0.41601562, -0.140625  ],\n",
       "         [ 0.09960938, -0.45117188,  0.46484375, -0.140625  ]],\n",
       " \n",
       "        [[ 0.15234375, -0.43359375, -0.4453125 ,  0.15234375],\n",
       "         [-0.11523438, -0.47460938, -0.39453125, -0.1328125 ],\n",
       "         [-0.13671875,  0.44921875,  0.4453125 , -0.16796875]],\n",
       " \n",
       "        [[-0.14453125, -0.42578125,  0.4140625 ,  0.11328125],\n",
       "         [-0.13671875, -0.46484375, -0.4375    ,  0.09570312],\n",
       "         [ 0.13085938,  0.44921875, -0.43554688,  0.09570312]]]),\n",
       " array([[[0.99752501, 0.89537522, 0.89243708, 0.99850352],\n",
       "         [0.99264107, 0.8934218 , 0.91289113, 0.99577775],\n",
       "         [0.99264107, 0.88844434, 0.91289113, 0.98978355]],\n",
       " \n",
       "        [[0.99140094, 0.906654  , 0.90390448, 0.99646707],\n",
       "         [0.99482916, 0.91113438, 0.91289113, 0.99287739],\n",
       "         [0.99006293, 0.89537522, 0.89826552, 0.9906099 ]],\n",
       " \n",
       "        [[0.98709168, 0.92623234, 0.89243708, 0.9937837 ],\n",
       "         [0.98892179, 0.90110846, 0.90935747, 0.99006293],\n",
       "         [0.99502662, 0.89243708, 0.88539273, 0.99006293]],\n",
       " \n",
       "        [[0.98832757, 0.90110846, 0.89537522, 0.98832757],\n",
       "         [0.99333833, 0.88019654, 0.91888252, 0.99114118],\n",
       "         [0.9906099 , 0.8934218 , 0.89537522, 0.98579232]],\n",
       " \n",
       "        [[0.98950024, 0.90482613, 0.91024845, 0.99356296],\n",
       "         [0.9906099 , 0.88539273, 0.89921841, 0.99540992],\n",
       "         [0.99140094, 0.8934218 , 0.90016605, 0.99540992]]]))"
      ]
     },
     "execution_count": 157,
     "metadata": {},
     "output_type": "execute_result"
    }
   ],
   "source": [
    "# |0_L> stabilizer expectations\n",
    "counts_all_syn_0 = counts_reshape(job_set_syn_0)\n",
    "g_row_list = g_row(str_g)\n",
    "matrix_T5 = transform_T5()\n",
    "# basis_list\n",
    "expectation_syn_0 = stabilizer_expectation(counts_all_syn_0,matrix_T5,g_row_list,n_shot)\n",
    "std_syn_0 = stabilizer_std(counts_all_syn_0,matrix_T5,g_row_list,n_shot)\n",
    "expectation_syn_0, std_syn_0"
   ]
  },
  {
   "cell_type": "code",
   "execution_count": 158,
   "id": "d4ef9025-15a2-46c9-a173-f683cefa72e8",
   "metadata": {},
   "outputs": [
    {
     "data": {
      "text/plain": [
       "(array([[[ 0.12890625,  0.4140625 ,  0.34179688, -0.04101562],\n",
       "         [-0.19140625,  0.42578125, -0.33203125, -0.14257812],\n",
       "         [-0.11328125,  0.3984375 , -0.36523438,  0.16015625]],\n",
       " \n",
       "        [[ 0.15039062,  0.39257812, -0.3671875 , -0.078125  ],\n",
       "         [ 0.12890625, -0.35742188, -0.31835938, -0.08203125],\n",
       "         [ 0.15820312, -0.38867188,  0.36523438,  0.05859375]],\n",
       " \n",
       "        [[-0.07226562,  0.34765625,  0.37695312,  0.13476562],\n",
       "         [-0.14453125, -0.43164062,  0.3046875 , -0.12304688],\n",
       "         [ 0.09570312, -0.4375    ,  0.36132812, -0.13671875]],\n",
       " \n",
       "        [[ 0.13671875, -0.37890625, -0.34765625,  0.09179688],\n",
       "         [-0.15234375, -0.46679688, -0.39648438, -0.13085938],\n",
       "         [-0.0546875 ,  0.3671875 ,  0.34570312, -0.1875    ]],\n",
       " \n",
       "        [[-0.09179688, -0.3203125 ,  0.30664062,  0.12109375],\n",
       "         [-0.07226562, -0.453125  , -0.28710938,  0.11132812],\n",
       "         [ 0.15234375,  0.42773438, -0.39453125,  0.10351562]]]),\n",
       " array([[[0.99165678, 0.91024845, 0.93977385, 0.99915851],\n",
       "         [0.9815109 , 0.90482613, 0.94326839, 0.98978355],\n",
       "         [0.99356296, 0.91719549, 0.9309156 , 0.98709168]],\n",
       " \n",
       "        [[0.98862665, 0.91971866, 0.93014695, 0.99694357],\n",
       "         [0.99165678, 0.93394304, 0.9479701 , 0.99662976],\n",
       "         [0.98740659, 0.92137624, 0.9309156 , 0.99828191]],\n",
       " \n",
       "        [[0.99738542, 0.93762206, 0.92623234, 0.9908775 ],\n",
       "         [0.98950024, 0.90204566, 0.95245238, 0.99240086],\n",
       "         [0.99540992, 0.89921841, 0.93243873, 0.9906099 ]],\n",
       " \n",
       "        [[0.9906099 , 0.92543506, 0.93762206, 0.99577775],\n",
       "         [0.98832757, 0.88436456, 0.91804147, 0.99140094],\n",
       "         [0.99850352, 0.93014695, 0.93834394, 0.9822646 ]],\n",
       " \n",
       "        [[0.99577775, 0.94731194, 0.95182537, 0.99264107],\n",
       "         [0.99738542, 0.89144699, 0.95789781, 0.9937837 ],\n",
       "         [0.98832757, 0.90390448, 0.91888252, 0.99462783]]]))"
      ]
     },
     "execution_count": 158,
     "metadata": {},
     "output_type": "execute_result"
    }
   ],
   "source": [
    "# |+_L> stabilizer expectations\n",
    "counts_all_syn_plus = counts_reshape(job_set_syn_plus)\n",
    "g_row_list = g_row(str_g)\n",
    "matrix_T5 = transform_T5()\n",
    "# basis_list\n",
    "expectation_syn_plus = stabilizer_expectation(counts_all_syn_plus,matrix_T5,g_row_list,n_shot)\n",
    "std_syn_plus = stabilizer_std(counts_all_syn_plus,matrix_T5,g_row_list,n_shot)\n",
    "expectation_syn_plus, std_syn_plus"
   ]
  },
  {
   "cell_type": "code",
   "execution_count": 20,
   "id": "4452cc8b-054d-4d78-be96-392b21d27b34",
   "metadata": {},
   "outputs": [
    {
     "data": {
      "image/png": "[encoded data removed]",
      "text/plain": [
       "<Figure size 576x720 with 15 Axes>"
      ]
     },
     "metadata": {},
     "output_type": "display_data"
    }
   ],
   "source": [
    "# syndrome plots\n",
    "g_x = np.arange(4)\n",
    "g_label = ['g1','g2','g3','g4']\n",
    "font_size = 12\n",
    "# plt.style.use('classic')\n",
    "fig, ax = plt.subplots(5,3,figsize=(8,10),gridspec_kw ={'wspace':0.1,'hspace':0.1})\n",
    "fig.patch.set_facecolor('white')\n",
    "for row in range(5):\n",
    "    for col in range(3):\n",
    "        p1 = ax[row,col].bar(g_label,syndrome_table[row,col],color='silver',label='ideal')\n",
    "        p2 = ax[row,col].bar(g_label,expectation_syn_plus[row,col],color='r',label='actual')\n",
    "        # p2 = ax[row,col].bar(g_label,expectation_syn_plus[row,col],yerr=std_syn_plus[row,col],\n",
    "        #                      color='r',error_kw={'elinewidth':1,'ecolor':'k'},label='actual')\n",
    "        ax[row,col].bar_label(p2,fmt='%0.2f',label_type='edge',fontsize=8)\n",
    "        ax[row,col].set_ylim(-1.2,1.2)\n",
    "        ax[row,col].axhline(y=0.,color='k',ls='-',lw=1)\n",
    "        if row < 4:\n",
    "            ax[row,col].set_xticklabels([])\n",
    "        elif row == 0:\n",
    "            ax[row,col].title.set_text('{}-error'.format(['X','Y','Z'][col]))\n",
    "            ax[row,col].set_xticklabels(g_label,fontsize=font_size)\n",
    "        if col > 0:\n",
    "            ax[row,col].set_yticklabels([])\n",
    "        elif col == 0:\n",
    "            ax[row,col].set_ylabel(r'$\\langle g \\rangle\\:\\: q_{{{}}}\\prime$'.format(row+1),fontsize=font_size)\n",
    "ax[4,2].legend(ncol=2,loc=(-0.7,-0.5),fontsize=font_size)\n",
    "plt.show()\n",
    "# fig.savefig('syndrome_histogram_plus_std.png',dpi=300,bbox_inches='tight')"
   ]
  },
  {
   "cell_type": "markdown",
   "id": "9896824d-13d7-4cae-b179-adf4d7456449",
   "metadata": {},
   "source": [
    "## 4. Fidelity\n",
    "### 4.1 Fidelity of encoding logical qubit states"
   ]
  },
  {
   "cell_type": "code",
   "execution_count": 146,
   "id": "31210e64-23b9-4e3c-9a67-6212a332fc86",
   "metadata": {},
   "outputs": [
    {
     "name": "stdout",
     "output_type": "stream",
     "text": [
      "['xizxz', 'ixxzz', 'xzizx', 'zzxxi', 'xxyyi', 'izzyy', 'yzyiz', 'xyxiy', 'zyiyz', 'yixyx', 'iyyxx', 'yyzzi', 'ziyzy', 'yxixy', 'zxzix']\n"
     ]
    }
   ],
   "source": [
    "from itertools import combinations\n",
    "\n",
    "# string for stabilizer operator [g1 ,g2, g3, g4]\n",
    "str_g = ['xizxz','ixxzz','xzizx','zzxxi']\n",
    "\n",
    "# generate sting of product of stabilizer\n",
    "def product_g_str(str_g):\n",
    "    pauli_rule = {}\n",
    "    for key in ['ii','xx','yy','zz']:\n",
    "        pauli_rule[key] = 'i'\n",
    "    for key in ['ix','xi','yz','zy']:\n",
    "        pauli_rule[key] = 'x'\n",
    "    for key in ['iy','yi','xz','zx']:\n",
    "        pauli_rule[key] = 'y'\n",
    "    for key in ['iz','zi','xy','yx']:\n",
    "        pauli_rule[key] = 'z'\n",
    "        \n",
    "    n = len(str_g)\n",
    "    \n",
    "    def product_op(*arg):\n",
    "        ops = arg\n",
    "        n = len(ops)\n",
    "        A = ops[0]\n",
    "        for i in range(1,n):\n",
    "            B = ops[i]\n",
    "            C = ''\n",
    "            for a,b in zip(A,B):\n",
    "                c = a+b\n",
    "                C += pauli_rule[c]\n",
    "            A = C\n",
    "        return A\n",
    "    \n",
    "    # def check_same(array):\n",
    "    #     mark = False\n",
    "    #     for i in range(len(array)-1):\n",
    "    #         if array[i] in array[i+1:]:\n",
    "    #             mark = True\n",
    "    #             break\n",
    "    #     return mark\n",
    "                \n",
    "    str_g_prod = []\n",
    "    for i_prod in range(1,n+1):\n",
    "        str_i_prod = []\n",
    "        for ops in combinations(str_g,i_prod):\n",
    "            prod_result = product_op(*ops)\n",
    "            str_i_prod.append(prod_result)\n",
    "        str_g_prod.extend(str_i_prod)\n",
    "    return str_g_prod\n",
    "\n",
    "str_g_prod = product_g_str(str_g)\n",
    "print(str_g_prod)"
   ]
  },
  {
   "cell_type": "code",
   "execution_count": 147,
   "id": "4470d443-06fe-4aea-a20b-5fde6d53647c",
   "metadata": {},
   "outputs": [],
   "source": [
    "def fidelity_projector_circ(coeff,str_g_prod):\n",
    "    \"\"\"\n",
    "    \n",
    "    Parameters\n",
    "    ----------\n",
    "    coeff : array_like, shape (2, )\n",
    "        coefficient [a, b] for logical state. |\\psi>=a|0_L>+b|1_L>\n",
    "    \"\"\"\n",
    "    circ_proj = []\n",
    "\n",
    "    for str_gi in str_g_prod:\n",
    "        # 1. initialize new circuit\n",
    "        reg_q_temp = QuantumRegister(5,'q')\n",
    "        circ_r_s = QuantumCircuit(reg_q_temp)\n",
    "        circ_r_s.initialize(params=coeff,qubits=0)\n",
    "        # 2. encoding\n",
    "        encoding_5q_code(circ_r_s,reg_q_temp)\n",
    "        # 3. apply tomographyical transformation\n",
    "        circ_r_s.barrier()\n",
    "        tomo_gi_transform(circ_r_s,str_gi)\n",
    "        # 4. measure all qubits in |0>, |1>\n",
    "        circ_r_s.measure_all()\n",
    "\n",
    "        circ_proj.append(circ_r_s)\n",
    "    return circ_proj"
   ]
  },
  {
   "cell_type": "code",
   "execution_count": 155,
   "id": "010ee0fb-bf65-4877-85be-efcb98aa3246",
   "metadata": {},
   "outputs": [
    {
     "name": "stdout",
     "output_type": "stream",
     "text": [
      "['xizxz', 'ixxzz', 'xzizx', 'zzxxi', 'xxyyi', 'izzyy', 'yzyiz', 'xyxiy', 'zyiyz', 'yixyx', 'iyyxx', 'yyzzi', 'ziyzy', 'yxixy', 'zxzix']\n",
      "15\n"
     ]
    },
    {
     "data": {
      "image/png": "[encoded data removed]",
      "text/plain": [
       "<Figure size 1750.94x535.111 with 1 Axes>"
      ]
     },
     "execution_count": 155,
     "metadata": {},
     "output_type": "execute_result"
    }
   ],
   "source": [
    "# generate circuit lists\n",
    "coeff_0 = [1., 0.]  # |0_L>\n",
    "coeff_plus = [1./np.sqrt(2), 1./np.sqrt(2)]  # |+_L>\n",
    "\n",
    "str_g_prod = product_g_str(str_g)\n",
    "print(str_g_prod)\n",
    "\n",
    "circ_fid_0 = fidelity_projector_circ(coeff_0,str_g_prod)\n",
    "circ_fid_plus = fidelity_projector_circ(coeff_plus,str_g_prod)\n",
    "\n",
    "# check and visualize created circuits\n",
    "print(len(circ_fid_0))\n",
    "circ_fid_plus[7].draw()\n",
    "# fig = circ_fid_plus[7].draw('mpl')\n",
    "# fig.savefig('plus_xyxiy_circuit.png',dpi=300,bbox_inches='tight')"
   ]
  },
  {
   "cell_type": "code",
   "execution_count": 118,
   "id": "4c3c90bc-f9c8-47c2-8c2c-789037fd4fcc",
   "metadata": {},
   "outputs": [
    {
     "name": "stdout",
     "output_type": "stream",
     "text": [
      "|0_L>: 74f9a0c8b09a4931b027bdce4e311a81-16395571497507873\n",
      "|+_L>: 3c067af0c5b348e39583bae99078b55e-16395571518398485\n"
     ]
    }
   ],
   "source": [
    "# run fidelity calculation for |0_L> and |+_L>\n",
    "run_or_not = False\n",
    "qc = 'ibmq_manila'\n",
    "n_shot = 1024\n",
    "if run_or_not:\n",
    "    job_set_id_fid_0, job_set_fid_0 = run_circuits(circ_fid_0,qc_name=qc,shots=n_shot,task_name='fidelity_0')\n",
    "    job_set_id_fid_plus, job_set_fid_plus = run_circuits(circ_fid_plus,qc_name=qc,shots=n_shot,task_name='fidelity_plus')\n",
    "else:\n",
    "    job_set_id_fid_0 = '74f9a0c8b09a4931b027bdce4e311a81-16395571497507873'\n",
    "    job_set_id_fid_plus = '3c067af0c5b348e39583bae99078b55e-16395571518398485'\n",
    "    job_manager = IBMQJobManager()\n",
    "    job_set_fid_0 = job_manager.retrieve_job_set(job_set_id_fid_0,provider)\n",
    "    job_set_fid_plus = job_manager.retrieve_job_set(job_set_id_fid_plus,provider)\n",
    "    \n",
    "print('|0_L>: {}'.format(job_set_id_fid_0))\n",
    "print('|+_L>: {}'.format(job_set_id_fid_plus))\n",
    "\n",
    "# job_set = job_manager.retrieve_job_set(job_set_id=job_set_id)"
   ]
  },
  {
   "cell_type": "markdown",
   "id": "78236043-ae0b-435c-955d-8c7b0b356237",
   "metadata": {},
   "source": [
    "#### data processing: counts to Stokes parameters"
   ]
  },
  {
   "cell_type": "code",
   "execution_count": 145,
   "id": "be3790d7-25ed-4e9a-afed-14cab062f0ea",
   "metadata": {},
   "outputs": [],
   "source": [
    "# reshape counts in job_set\n",
    "def counts_fidelity(job_set):\n",
    "    results = job_set.results()\n",
    "    counts_all = []\n",
    "    for stabilizer in range(len(str_g_prod)):\n",
    "        counts_all.append(results.get_counts(stabilizer))\n",
    "    return np.array(counts_all)\n",
    "\n",
    "# generate all expectation value for gi from all counts\n",
    "def stabilizer_expectation_fidelity(counts_all,matrix_T5,g_row_list,n_shot):\n",
    "    expectation = []\n",
    "    for stabilizer in range(len(str_g_prod)):\n",
    "        prob_ijk = T5_counts(matrix_T5[g_row_list[stabilizer]],counts_all[stabilizer])/n_shot\n",
    "        expectation.append(prob_ijk)\n",
    "    return np.array(expectation)"
   ]
  },
  {
   "cell_type": "code",
   "execution_count": 149,
   "id": "e0437808-bbe9-488f-9301-7c20de096d19",
   "metadata": {},
   "outputs": [
    {
     "name": "stdout",
     "output_type": "stream",
     "text": [
      "fidelity for |0_L>: 0.0670166015625\n"
     ]
    },
    {
     "data": {
      "text/plain": [
       "array([ 0.01367188,  0.        ,  0.01171875, -0.0546875 ,  0.05664062,\n",
       "       -0.07226562,  0.0234375 , -0.01367188,  0.02148438,  0.08398438,\n",
       "       -0.03125   , -0.01953125,  0.05859375, -0.06835938,  0.0625    ])"
      ]
     },
     "execution_count": 149,
     "metadata": {},
     "output_type": "execute_result"
    }
   ],
   "source": [
    "# |0_L> stabilizer expectations\n",
    "counts_all_fid_0 = counts_fidelity(job_set_fid_0)\n",
    "g_row_list = g_row(str_g_prod)\n",
    "matrix_T5 = transform_T5()\n",
    "expectation_fid_0 = stabilizer_expectation_fidelity(counts_all_fid_0,matrix_T5,g_row_list,n_shot)\n",
    "fidelity_0 = 1/2**4*(1+np.sum(expectation_fid_0))\n",
    "print('fidelity for |0_L>: {}'.format(fidelity_0))\n",
    "expectation_fid_0"
   ]
  },
  {
   "cell_type": "code",
   "execution_count": 142,
   "id": "38641c80-4235-4c73-86f3-d68460e1ff81",
   "metadata": {},
   "outputs": [
    {
     "name": "stdout",
     "output_type": "stream",
     "text": [
      "fidelity for |+_L>: 0.0684814453125\n"
     ]
    },
    {
     "data": {
      "text/plain": [
       "array([ 0.01757812, -0.10742188,  0.02148438, -0.0078125 ,  0.        ,\n",
       "        0.03515625,  0.04296875,  0.01171875,  0.00390625,  0.00195312,\n",
       "        0.0546875 ,  0.        ,  0.03515625, -0.0078125 , -0.00585938])"
      ]
     },
     "execution_count": 142,
     "metadata": {},
     "output_type": "execute_result"
    }
   ],
   "source": [
    "# |+_L> stabilizer expectations\n",
    "counts_all_fid_plus = counts_fidelity(job_set_fid_plus)\n",
    "g_row_list = g_row(str_g_prod)\n",
    "matrix_T5 = transform_T5()\n",
    "expectation_fid_plus = stabilizer_expectation_fidelity(counts_all_fid_plus,matrix_T5,g_row_list,n_shot)\n",
    "fidelity_plus = 1/2**4*(1+np.sum(expectation_fid_plus))\n",
    "print('fidelity for |+_L>: {}'.format(fidelity_plus))\n",
    "expectation_fid_plus"
   ]
  },
  {
   "cell_type": "code",
   "execution_count": 143,
   "id": "3c404335-4651-48c2-a64c-61e8f0d81d3a",
   "metadata": {},
   "outputs": [],
   "source": [
    "##### %matplotlib inline\n",
    "import matplotlib as mpl\n",
    "mpl.rcParams.update(mpl.rcParamsDefault)"
   ]
  },
  {
   "cell_type": "code",
   "execution_count": null,
   "id": "985962b2-9839-4600-b376-7a905c92f655",
   "metadata": {},
   "outputs": [],
   "source": []
  },
  {
   "cell_type": "code",
   "execution_count": null,
   "id": "0a1477bb-2fba-4dd3-ae3e-47dac7ab8b86",
   "metadata": {},
   "outputs": [],
   "source": []
  }
 ],
 "metadata": {
  "kernelspec": {
   "display_name": "Qiskit v0.33.1 (ipykernel)",
   "language": "python",
   "name": "python3"
  },
  "language_info": {
   "codemirror_mode": {
    "name": "ipython",
    "version": 3
   },
   "file_extension": ".py",
   "mimetype": "text/x-python",
   "name": "python",
   "nbconvert_exporter": "python",
   "pygments_lexer": "ipython3",
   "version": "3.8.10"
  },
  "widgets": {
   "application/vnd.jupyter.widget-state+json": {
    "state": {
     "03ec82d91d884942a8ddf5d5347b8a77": {
      "model_module": "@jupyter-widgets/base",
      "model_module_version": "1.2.0",
      "model_name": "LayoutModel",
      "state": {
       "width": "70px"
      }
     },
     "079884d10c2b4af1abaaf4f8ba2c23bb": {
      "model_module": "@jupyter-widgets/base",
      "model_module_version": "1.2.0",
      "model_name": "LayoutModel",
      "state": {
       "margin": "0px 0px 0px 0px"
      }
     },
     "08cc0bdd58eb48edad83ba9766f3de17": {
      "model_module": "@jupyter-widgets/controls",
      "model_module_version": "1.5.0",
      "model_name": "GridBoxModel",
      "state": {
       "children": [
        "IPY_MODEL_bf24cb0fccaf4c5da87131897bb97122",
        "IPY_MODEL_10c15f6e72364b2c9cc7134a4e33157c",
        "IPY_MODEL_ec81d56485bc4effaeb1f06423ec2543",
        "IPY_MODEL_714d218581b84b6499c0feeece0882c8"
       ],
       "layout": "IPY_MODEL_d1138ba47c4b440e845b15f29408f85e"
      }
     },
     "0a92b26b35f34679ad9713d2a8918411": {
      "model_module": "@jupyter-widgets/base",
      "model_module_version": "1.2.0",
      "model_name": "LayoutModel",
      "state": {
       "max_height": "620px"
      }
     },
     "0afb56a5be994294b6d1e67219cb8f39": {
      "model_module": "@jupyter-widgets/controls",
      "model_module_version": "1.5.0",
      "model_name": "DescriptionStyleModel",
      "state": {
       "description_width": ""
      }
     },
     "0b3a0095c74b40609a933fcb184df6bd": {
      "model_module": "@jupyter-widgets/base",
      "model_module_version": "1.2.0",
      "model_name": "LayoutModel",
      "state": {
       "width": "95px"
      }
     },
     "10c15f6e72364b2c9cc7134a4e33157c": {
      "model_module": "@jupyter-widgets/controls",
      "model_module_version": "1.5.0",
      "model_name": "HTMLModel",
      "state": {
       "layout": "IPY_MODEL_85e1292494cb4e31881d0eaa8f882ec9",
       "style": "IPY_MODEL_5f587250fec143eba8ef5d75d238d140",
       "value": "<table><style>\ntable {\n    border-collapse: collapse;\n    width: auto;\n}\n\nth, td {\n    text-align: left;\n    padding: 8px;\n}\n\ntr:nth-child(even) {background-color: #f6f6f6;};\n</style><tr><th></th><th>Type</th><th>Gate error</th></tr><tr><td><font style='font-weight:bold'>cx4_3</font></td><td>cx</td><td>0.0051</td></tr><tr><td><font style='font-weight:bold'>cx3_4</font></td><td>cx</td><td>0.0051</td></tr><tr><td><font style='font-weight:bold'>cx0_1</font></td><td>cx</td><td>0.00566</td></tr></table>"
      }
     },
     "13c25456a2a34d85938eb7c912fa442a": {
      "model_module": "@jupyter-widgets/controls",
      "model_module_version": "1.5.0",
      "model_name": "ButtonStyleModel",
      "state": {}
     },
     "14cc5ca942d2479d86313432a7344023": {
      "model_module": "@jupyter-widgets/controls",
      "model_module_version": "1.5.0",
      "model_name": "HTMLModel",
      "state": {
       "layout": "IPY_MODEL_bfb80e418e384875a13443ac0a82deac",
       "style": "IPY_MODEL_6497d84c580b471797492a91ff8149bf",
       "value": "-"
      }
     },
     "17306e223da341b99c7016dcbff997fc": {
      "model_module": "@jupyter-widgets/controls",
      "model_module_version": "1.5.0",
      "model_name": "DescriptionStyleModel",
      "state": {
       "description_width": ""
      }
     },
     "23b7730347e744608f1608c22acaae4e": {
      "model_module": "@jupyter-widgets/base",
      "model_module_version": "1.2.0",
      "model_name": "LayoutModel",
      "state": {
       "grid_area": "right",
       "padding": "0px 0px 0px 0px",
       "width": "70px"
      }
     },
     "2727c18e02be4f8bb1d1b21a873b6270": {
      "model_module": "@jupyter-widgets/base",
      "model_module_version": "1.2.0",
      "model_name": "LayoutModel",
      "state": {
       "width": "95px"
      }
     },
     "2fe68d4f12414ee1a73dabf0e8640d0e": {
      "model_module": "@jupyter-widgets/controls",
      "model_module_version": "1.5.0",
      "model_name": "DescriptionStyleModel",
      "state": {
       "description_width": ""
      }
     },
     "3142073290a84886920b731607fc6736": {
      "model_module": "@jupyter-widgets/controls",
      "model_module_version": "1.5.0",
      "model_name": "DescriptionStyleModel",
      "state": {
       "description_width": ""
      }
     },
     "330ffe5d925645c09c971685bb1895b3": {
      "model_module": "@jupyter-widgets/base",
      "model_module_version": "1.2.0",
      "model_name": "LayoutModel",
      "state": {
       "grid_area": "right"
      }
     },
     "336ea36fb287459db16318635ee8db67": {
      "model_module": "@jupyter-widgets/base",
      "model_module_version": "1.2.0",
      "model_name": "LayoutModel",
      "state": {
       "width": "95px"
      }
     },
     "34b63c5030c24ca19b86fcb104a6d2ee": {
      "model_module": "@jupyter-widgets/base",
      "model_module_version": "1.2.0",
      "model_name": "LayoutModel",
      "state": {
       "margin": "0px 5px 0px 0px",
       "width": "32px"
      }
     },
     "359fe2ecf62645e0b222158332b07740": {
      "model_module": "@jupyter-widgets/controls",
      "model_module_version": "1.5.0",
      "model_name": "HTMLMathModel",
      "state": {
       "layout": "IPY_MODEL_a0fd3ea238ae44548eda92a69b71f3d6",
       "style": "IPY_MODEL_5e1f7851147a47429353ad248c41d011",
       "value": "<table><style>\ntable {\n    border-collapse: collapse;\n    width: auto;\n}\n\nth, td {\n    text-align: left;\n    padding: 8px;\n}\n\ntr:nth-child(even) {background-color: #f6f6f6;}\n</style><tr><th></th><th></th></tr><tr><td>measure_esp_enabled</td><td>False</td></tr><tr><td>conditional_latency</td><td>[]</td></tr><tr><td>supported_instructions</td><td>['measure', 'reset', 'u3', 'sx', 'id', 'acquire', 'x', 'u2', 'setf', 'delay', 'cx', 'shiftf', 'rz', 'u1', 'play']</td></tr><tr><td>processor_type</td><td>{'family': 'Falcon', 'revision': '5.11', 'segment': 'L'}</td></tr><tr><td>supported_features</td><td>['q', 'o', 'b', 'j']</td></tr><tr><td>input_allowed</td><td>['job', 'runtime']</td></tr><tr><td>discriminators</td><td>['quadratic_discriminator', 'hw_qmfk', 'linear_discriminator']</td></tr><tr><td>url</td><td>None</td></tr><tr><td>meas_lo_range</td><td>[[6.663214088, 7.663214088], [6.7833221550000005, 7.7833221550000005], [6.7189281020000005, 7.7189281020000005], [6.6101423420000005, 7.6101423420000005], [6.846997692, 7.846997692]]</td></tr><tr><td>allow_object_storage</td><td>True</td></tr><tr><td>dtm</td><td>0.2222222222222222</td></tr><tr><td>hamiltonian</td><td>$$\\begin{align} \\mathcal{H}/\\hbar = & \\sum_{i=0}^{4}\\left(\\frac{\\omega_{q,i}}{2}(\\mathbb{I}-\\sigma_i^{z})+\\frac{\\Delta_{i}}{2}(O_i^2-O_i)+\\Omega_{d,i}D_i(t)\\sigma_i^{X}\\right) \\\\ & + J_{0,1}(\\sigma_{0}^{+}\\sigma_{1}^{-}+\\sigma_{0}^{-}\\sigma_{1}^{+}) + J_{1,2}(\\sigma_{1}^{+}\\sigma_{2}^{-}+\\sigma_{1}^{-}\\sigma_{2}^{+}) + J_{2,3}(\\sigma_{2}^{+}\\sigma_{3}^{-}+\\sigma_{2}^{-}\\sigma_{3}^{+}) + J_{3,4}(\\sigma_{3}^{+}\\sigma_{4}^{-}+\\sigma_{3}^{-}\\sigma_{4}^{+}) \\\\ & + \\Omega_{d,0}(U_{0}^{(0,1)}(t))\\sigma_{0}^{X} + \\Omega_{d,1}(U_{1}^{(1,0)}(t)+U_{2}^{(1,2)}(t))\\sigma_{1}^{X} \\\\ & + \\Omega_{d,2}(U_{3}^{(2,1)}(t)+U_{4}^{(2,3)}(t))\\sigma_{2}^{X} + \\Omega_{d,3}(U_{6}^{(3,4)}(t)+U_{5}^{(3,2)}(t))\\sigma_{3}^{X} \\\\ & + \\Omega_{d,4}(U_{7}^{(4,3)}(t))\\sigma_{4}^{X} \\\\ \\end{align}$$</td></tr><tr><td>allow_q_object</td><td>True</td></tr><tr><td>channels</td><td>{'acquire0': {'operates': {'qubits': [0]}, 'purpose': 'acquire', 'type': 'acquire'}, 'acquire1': {'operates': {'qubits': [1]}, 'purpose': 'acquire', 'type': 'acquire'}, 'acquire2': {'operates': {'qubits': [2]}, 'purpose': 'acquire', 'type': 'acquire'}, 'acquire3': {'operates': {'qubits': [3]}, 'purpose': 'acquire', 'type': 'acquire'}, 'acquire4': {'operates': {'qubits': [4]}, 'purpose': 'acquire', 'type': 'acquire'}, 'd0': {'operates': {'qubits': [0]}, 'purpose': 'drive', 'type': 'drive'}, 'd1': {'operates': {'qubits': [1]}, 'purpose': 'drive', 'type': 'drive'}, 'd2': {'operates': {'qubits': [2]}, 'purpose': 'drive', 'type': 'drive'}, 'd3': {'operates': {'qubits': [3]}, 'purpose': 'drive', 'type': 'drive'}, 'd4': {'operates': {'qubits': [4]}, 'purpose': 'drive', 'type': 'drive'}, 'm0': {'operates': {'qubits': [0]}, 'purpose': 'measure', 'type': 'measure'}, 'm1': {'operates': {'qubits': [1]}, 'purpose': 'measure', 'type': 'measure'}, 'm2': {'operates': {'qubits': [2]}, 'purpose': 'measure', 'type': 'measure'}, 'm3': {'operates': {'qubits': [3]}, 'purpose': 'measure', 'type': 'measure'}, 'm4': {'operates': {'qubits': [4]}, 'purpose': 'measure', 'type': 'measure'}, 'u0': {'operates': {'qubits': [0, 1]}, 'purpose': 'cross-resonance', 'type': 'control'}, 'u1': {'operates': {'qubits': [1, 0]}, 'purpose': 'cross-resonance', 'type': 'control'}, 'u2': {'operates': {'qubits': [1, 2]}, 'purpose': 'cross-resonance', 'type': 'control'}, 'u3': {'operates': {'qubits': [2, 1]}, 'purpose': 'cross-resonance', 'type': 'control'}, 'u4': {'operates': {'qubits': [2, 3]}, 'purpose': 'cross-resonance', 'type': 'control'}, 'u5': {'operates': {'qubits': [3, 2]}, 'purpose': 'cross-resonance', 'type': 'control'}, 'u6': {'operates': {'qubits': [3, 4]}, 'purpose': 'cross-resonance', 'type': 'control'}, 'u7': {'operates': {'qubits': [4, 3]}, 'purpose': 'cross-resonance', 'type': 'control'}}</td></tr><tr><td>description</td><td>5 qubit device</td></tr><tr><td>qubit_channel_mapping</td><td>[['u1', 'u0', 'm0', 'd0'], ['u3', 'u0', 'd1', 'u2', 'm1', 'u1'], ['u3', 'u5', 'd2', 'u4', 'u2', 'm2'], ['u5', 'u4', 'm3', 'u7', 'u6', 'd3'], ['d4', 'm4', 'u7', 'u6']]</td></tr><tr><td>acquisition_latency</td><td>[]</td></tr><tr><td>timing_constraints</td><td>{'acquire_alignment': 16, 'granularity': 16, 'min_length': 64, 'pulse_alignment': 1}</td></tr><tr><td>rep_times</td><td>[1000.0]</td></tr><tr><td>memory</td><td>True</td></tr><tr><td>n_registers</td><td>1</td></tr><tr><td>pulse_num_qubits</td><td>3</td></tr><tr><td>open_pulse</td><td>False</td></tr><tr><td>u_channel_lo</td><td>[[{'q': 1, 'scale': (1+0j)}], [{'q': 0, 'scale': (1+0j)}], [{'q': 2, 'scale': (1+0j)}], [{'q': 1, 'scale': (1+0j)}], [{'q': 3, 'scale': (1+0j)}], [{'q': 2, 'scale': (1+0j)}], [{'q': 4, 'scale': (1+0j)}], [{'q': 3, 'scale': (1+0j)}]]</td></tr><tr><td>backend_name</td><td>ibmq_manila</td></tr><tr><td>parametric_pulses</td><td>['gaussian', 'gaussian_square', 'drag', 'constant']</td></tr><tr><td>online_date</td><td>2021-04-28 04:00:00+00:00</td></tr><tr><td>sample_name</td><td>family: Falcon, revision: 5.11, segment: L</td></tr><tr><td>qubit_lo_range</td><td>[[4.462702213729719, 5.462702213729719], [4.338421341856897, 5.338421341856897], [4.537194165343783, 5.537194165343783], [4.451302733575343, 5.451302733575343], [4.566315807900401, 5.566315807900401]]</td></tr><tr><td>default_rep_delay</td><td>250.0</td></tr><tr><td>dynamic_reprate_enabled</td><td>True</td></tr><tr><td>meas_levels</td><td>[1, 2]</td></tr><tr><td>clops</td><td>2819</td></tr><tr><td>simulator</td><td>False</td></tr><tr><td>rep_delay_range</td><td>[0.0, 500.0]</td></tr><tr><td>coupling_map</td><td>[[0, 1], [1, 0], [1, 2], [2, 1], [2, 3], [3, 2], [3, 4], [4, 3]]</td></tr><tr><td>n_uchannels</td><td>8</td></tr><tr><td>uchannels_enabled</td><td>True</td></tr><tr><td>meas_kernels</td><td>['hw_qmfk']</td></tr><tr><td>credits_required</td><td>True</td></tr><tr><td>meas_map</td><td>[[0, 1, 2, 3, 4]]</td></tr><tr><td>pulse_num_channels</td><td>9</td></tr><tr><td>local</td><td>False</td></tr><tr><td>dt</td><td>0.2222222222222222</td></tr><tr><td>multi_meas_enabled</td><td>True</td></tr><tr><td>conditional</td><td>False</td></tr></table>"
      }
     },
     "3800d696e9804b40a468ec5754aa85e8": {
      "model_module": "@jupyter-widgets/controls",
      "model_module_version": "1.5.0",
      "model_name": "DescriptionStyleModel",
      "state": {
       "description_width": ""
      }
     },
     "3a251ae9930c4f91a48dd286d50cede1": {
      "model_module": "@jupyter-widgets/controls",
      "model_module_version": "1.5.0",
      "model_name": "HTMLModel",
      "state": {
       "layout": "IPY_MODEL_d4c31e7d0ec04bfea3f532531eaf76ba",
       "style": "IPY_MODEL_d864652b8d594defaed85f2db069d300",
       "value": "<table><style>\ntable {\n    border-collapse: collapse;\n    width: auto;\n}\n\nth, td {\n    text-align: left;\n    padding: 8px;\n}\n\ntr:nth-child(even) {background-color: #f6f6f6;}\n</style><tr><th></th><th>Frequency</th><th>T1</th><th>T2</th><th>RZ</th><th>SX</th><th>X</th><th>Readout error</th></tr><tr><td><font style='font-weight:bold'>Q0</font></td><td>4.9627 GHz</td><td>224.30876 us</td><td>47.7808 us</td><td>0</td><td>0.00023</td><td>0.00023</td><td>0.0245 </td><tr><td><font style='font-weight:bold'>Q1</font></td><td>4.83843 GHz</td><td>211.7325 us</td><td>69.44569 us</td><td>0</td><td>0.0002</td><td>0.0002</td><td>0.0272 </td><tr><td><font style='font-weight:bold'>Q2</font></td><td>5.0363 GHz</td><td>191.58254 us</td><td>22.9783 us</td><td>0</td><td>0.00045</td><td>0.00045</td><td>0.1921 </td><tr><td><font style='font-weight:bold'>Q3</font></td><td>4.9513 GHz</td><td>173.86244 us</td><td>59.18191 us</td><td>0</td><td>0.0002</td><td>0.0002</td><td>0.0224 </td><tr><td><font style='font-weight:bold'>Q4</font></td><td>5.06632 GHz</td><td>130.86509 us</td><td>42.5798 us</td><td>0</td><td>0.00036</td><td>0.00036</td><td>0.02 </td></table>"
      }
     },
     "3b8fb50007bc4940b78e8f6dd586049e": {
      "model_module": "@jupyter-widgets/controls",
      "model_module_version": "1.5.0",
      "model_name": "HTMLModel",
      "state": {
       "layout": "IPY_MODEL_7fdd96767dc84d29a0c04ffec03d6c13",
       "style": "IPY_MODEL_3142073290a84886920b731607fc6736",
       "value": "ibmq_manila"
      }
     },
     "45b6949b9a33458ba63e42e5fd3de46b": {
      "model_module": "@jupyter-widgets/controls",
      "model_module_version": "1.5.0",
      "model_name": "ButtonModel",
      "state": {
       "icon": "close",
       "layout": "IPY_MODEL_7ee00a34ba394bcfb3105209093344bc",
       "style": "IPY_MODEL_5c1a72bf8f7f46fa826147382ced4720"
      }
     },
     "46484fc8b84448ad95862aa9d239b237": {
      "model_module": "@jupyter-widgets/base",
      "model_module_version": "1.2.0",
      "model_name": "LayoutModel",
      "state": {
       "grid_area": "left",
       "width": "100%"
      }
     },
     "49a8d0e44a08427899003b00c2f02695": {
      "model_module": "@jupyter-widgets/base",
      "model_module_version": "1.2.0",
      "model_name": "LayoutModel",
      "state": {
       "width": "190px"
      }
     },
     "4a7637df517249baa2b50767c784b662": {
      "model_module": "@jupyter-widgets/output",
      "model_module_version": "1.0.0",
      "model_name": "OutputModel",
      "state": {
       "layout": "IPY_MODEL_bfd77e6f1eb64963be783917e5b3b7db",
       "outputs": [
        {
         "data": {
          "image/png": "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\n",
          "text/plain": "<Figure size 500x500 with 1 Axes>"
         },
         "metadata": {},
         "output_type": "display_data"
        }
       ]
      }
     },
     "4b33e74f96cb4f88a2189970575accbf": {
      "model_module": "@jupyter-widgets/controls",
      "model_module_version": "1.5.0",
      "model_name": "DescriptionStyleModel",
      "state": {
       "description_width": ""
      }
     },
     "4ba313ae8f4b47588547e3c4b465ff50": {
      "model_module": "@jupyter-widgets/base",
      "model_module_version": "1.2.0",
      "model_name": "LayoutModel",
      "state": {
       "grid_gap": "0px 0px",
       "grid_template_areas": "\n                               \"left right right right\"\n                               \"bottom bottom bottom bottom\"\n                               ",
       "grid_template_columns": "31% 23% 23% 23%",
       "grid_template_rows": "auto auto"
      }
     },
     "4c85446b1e3f424fa8ce8d6fb9bbfff4": {
      "model_module": "@jupyter-widgets/controls",
      "model_module_version": "1.5.0",
      "model_name": "HTMLModel",
      "state": {
       "layout": "IPY_MODEL_336ea36fb287459db16318635ee8db67",
       "style": "IPY_MODEL_af078fbe4d81459586d4e25439caa5e9",
       "value": "<h5>Status</h5>"
      }
     },
     "4eac17c7c36749678ece8e5e0f512b44": {
      "model_module": "@jupyter-widgets/controls",
      "model_module_version": "1.5.0",
      "model_name": "VBoxModel",
      "state": {
       "children": [
        "IPY_MODEL_b5f03deba33949daad1ac9a6fd17afe1",
        "IPY_MODEL_3a251ae9930c4f91a48dd286d50cede1"
       ],
       "layout": "IPY_MODEL_b487ab0b9a8549fe91212f05412a518a"
      }
     },
     "53bf742f36594f7494c85b2e10f48523": {
      "model_module": "@jupyter-widgets/controls",
      "model_module_version": "1.5.0",
      "model_name": "DescriptionStyleModel",
      "state": {
       "description_width": ""
      }
     },
     "59eb3454cb9b4403b03989293e399fd0": {
      "model_module": "@jupyter-widgets/base",
      "model_module_version": "1.2.0",
      "model_name": "LayoutModel",
      "state": {
       "grid_area": "top"
      }
     },
     "5c1a72bf8f7f46fa826147382ced4720": {
      "model_module": "@jupyter-widgets/controls",
      "model_module_version": "1.5.0",
      "model_name": "ButtonStyleModel",
      "state": {
       "button_color": "white"
      }
     },
     "5e1f7851147a47429353ad248c41d011": {
      "model_module": "@jupyter-widgets/controls",
      "model_module_version": "1.5.0",
      "model_name": "DescriptionStyleModel",
      "state": {
       "description_width": ""
      }
     },
     "5f587250fec143eba8ef5d75d238d140": {
      "model_module": "@jupyter-widgets/controls",
      "model_module_version": "1.5.0",
      "model_name": "DescriptionStyleModel",
      "state": {
       "description_width": ""
      }
     },
     "5fb487af19014e42b0efce0ec47de83d": {
      "model_module": "@jupyter-widgets/base",
      "model_module_version": "1.2.0",
      "model_name": "LayoutModel",
      "state": {
       "grid_template_areas": "\n                                       \". . . . right \"\n                                        ",
       "grid_template_columns": "20% 20% 20% 20% 20%",
       "width": "100%"
      }
     },
     "62c993f494684f518b7288597fe5c61d": {
      "model_module": "@jupyter-widgets/controls",
      "model_module_version": "1.5.0",
      "model_name": "DescriptionStyleModel",
      "state": {
       "description_width": ""
      }
     },
     "63ba312fead84b13aad4e233d0fa8bef": {
      "model_module": "@jupyter-widgets/controls",
      "model_module_version": "1.5.0",
      "model_name": "HBoxModel",
      "state": {
       "children": [
        "IPY_MODEL_85fa4396792b475bb135f8096d9e2566",
        "IPY_MODEL_d0399ae2fe784e25bfa72537034bf0ba",
        "IPY_MODEL_b58cce5a38d64645a11de2a8e9a34682",
        "IPY_MODEL_cf339a7c238c4563953eee1f5d195a98",
        "IPY_MODEL_8ff4493f860f4c9483a7cab66e751bfe",
        "IPY_MODEL_c74a60f0a3434e40ac3534f7e15b9f0c"
       ],
       "layout": "IPY_MODEL_e2df9faf0ce14afc9be12eaaf25f9d84"
      }
     },
     "6497d84c580b471797492a91ff8149bf": {
      "model_module": "@jupyter-widgets/controls",
      "model_module_version": "1.5.0",
      "model_name": "DescriptionStyleModel",
      "state": {
       "description_width": ""
      }
     },
     "67cfaa14fc5c40978b440efda0d3a14f": {
      "model_module": "@jupyter-widgets/controls",
      "model_module_version": "1.5.0",
      "model_name": "HBoxModel",
      "state": {
       "children": [
        "IPY_MODEL_45b6949b9a33458ba63e42e5fd3de46b",
        "IPY_MODEL_fe147e28c89046f380864b20caadb2b7",
        "IPY_MODEL_3b8fb50007bc4940b78e8f6dd586049e",
        "IPY_MODEL_755990ce0426459e8e9d4f11fdb7e393",
        "IPY_MODEL_14cc5ca942d2479d86313432a7344023",
        "IPY_MODEL_f89034d198254241ad21d7c5d0488dd4"
       ],
       "layout": "IPY_MODEL_795a230d5ef449e19dd3e52ea22b4395"
      }
     },
     "697eb1de7e4140a285f1261d6c97125d": {
      "model_module": "@jupyter-widgets/controls",
      "model_module_version": "1.5.0",
      "model_name": "DescriptionStyleModel",
      "state": {
       "description_width": ""
      }
     },
     "6c7b9148d8eb4f1d93cd181ae87821d5": {
      "model_module": "@jupyter-widgets/controls",
      "model_module_version": "1.5.0",
      "model_name": "DescriptionStyleModel",
      "state": {
       "description_width": ""
      }
     },
     "6e0d86a2f4554e22970c5d47a19202b5": {
      "model_module": "@jupyter-widgets/controls",
      "model_module_version": "1.5.0",
      "model_name": "HTMLModel",
      "state": {
       "layout": "IPY_MODEL_99d46c4f2a704dc9aedc0204be35d2ab",
       "style": "IPY_MODEL_4b33e74f96cb4f88a2189970575accbf",
       "value": "<h5>Backend</h5>"
      }
     },
     "70e9cefed10b4a419e178f9f86e109d5": {
      "model_module": "@jupyter-widgets/controls",
      "model_module_version": "1.5.0",
      "model_name": "DescriptionStyleModel",
      "state": {
       "description_width": ""
      }
     },
     "714d218581b84b6499c0feeece0882c8": {
      "model_module": "@jupyter-widgets/controls",
      "model_module_version": "1.5.0",
      "model_name": "HTMLModel",
      "state": {
       "layout": "IPY_MODEL_330ffe5d925645c09c971685bb1895b3",
       "style": "IPY_MODEL_9bc8e85a60374ecaa684cf630890040f",
       "value": "<table><style>\ntable {\n    border-collapse: collapse;\n    width: auto;\n}\n\nth, td {\n    text-align: left;\n    padding: 8px;\n}\n\ntr:nth-child(even) {background-color: #f6f6f6;};\n</style><tr><th></th><th>Type</th><th>Gate error</th></tr><tr><td><font style='font-weight:bold'>cx2_3</font></td><td>cx</td><td>1</td></tr><tr><td><font style='font-weight:bold'>cx3_2</font></td><td>cx</td><td>1</td></tr></table>"
      }
     },
     "755990ce0426459e8e9d4f11fdb7e393": {
      "model_module": "@jupyter-widgets/controls",
      "model_module_version": "1.5.0",
      "model_name": "HTMLModel",
      "state": {
       "layout": "IPY_MODEL_0b3a0095c74b40609a933fcb184df6bd",
       "style": "IPY_MODEL_53bf742f36594f7494c85b2e10f48523",
       "value": "<font style='color:#34BC6E'>DONE</font>"
      }
     },
     "78179022364f47f9aab53091000da300": {
      "model_module": "@jupyter-widgets/base",
      "model_module_version": "1.2.0",
      "model_name": "LayoutModel",
      "state": {
       "border": "4px solid #000000",
       "max_height": "650px",
       "min_height": "650px",
       "overflow_y": "hidden"
      }
     },
     "795a230d5ef449e19dd3e52ea22b4395": {
      "model_module": "@jupyter-widgets/base",
      "model_module_version": "1.2.0",
      "model_name": "LayoutModel",
      "state": {
       "max_width": "700px",
       "min_width": "700px"
      }
     },
     "7a6536159cc0460eb7a4d3a636d2a531": {
      "model_module": "@jupyter-widgets/controls",
      "model_module_version": "1.5.0",
      "model_name": "HTMLModel",
      "state": {
       "layout": "IPY_MODEL_9256b997ecea456fafe3ad68f064e79d",
       "style": "IPY_MODEL_cc9cc6c514314ee99523124f71762172",
       "value": "<h5>Job ID</h5>"
      }
     },
     "7a8950ec6fb947429efa05a1ed39f806": {
      "model_module": "@jupyter-widgets/controls",
      "model_module_version": "1.5.0",
      "model_name": "DescriptionStyleModel",
      "state": {
       "description_width": ""
      }
     },
     "7e6a0609e4b24007a026bb59d7c7677e": {
      "model_module": "@jupyter-widgets/base",
      "model_module_version": "1.2.0",
      "model_name": "LayoutModel",
      "state": {
       "width": "190px"
      }
     },
     "7ea617d2fddd45d28bf795d83c374b16": {
      "model_module": "@jupyter-widgets/controls",
      "model_module_version": "1.5.0",
      "model_name": "HTMLModel",
      "state": {
       "layout": "IPY_MODEL_87928e67b78d413cba651ff72ac04b82",
       "style": "IPY_MODEL_697eb1de7e4140a285f1261d6c97125d",
       "value": "<h5>Queue</h5>"
      }
     },
     "7ee00a34ba394bcfb3105209093344bc": {
      "model_module": "@jupyter-widgets/base",
      "model_module_version": "1.2.0",
      "model_name": "LayoutModel",
      "state": {
       "margin": "0px 5px 0px 0px",
       "width": "32px"
      }
     },
     "7fdd96767dc84d29a0c04ffec03d6c13": {
      "model_module": "@jupyter-widgets/base",
      "model_module_version": "1.2.0",
      "model_name": "LayoutModel",
      "state": {
       "width": "145px"
      }
     },
     "8442954287c940bfaee93890992fa1f8": {
      "model_module": "@jupyter-widgets/controls",
      "model_module_version": "1.5.0",
      "model_name": "HTMLModel",
      "state": {
       "layout": "IPY_MODEL_079884d10c2b4af1abaaf4f8ba2c23bb",
       "style": "IPY_MODEL_6c7b9148d8eb4f1d93cd181ae87821d5",
       "value": "<h1 style='color:#ffffff;background-color:#000000;padding-top: 1%;padding-bottom: 1%;padding-left: 1%; margin-top: 0px'>ibmq_manila</h1>"
      }
     },
     "8508c393a5ab46ac8592cf417df87601": {
      "model_module": "@jupyter-widgets/controls",
      "model_module_version": "1.5.0",
      "model_name": "ButtonModel",
      "state": {
       "button_style": "primary",
       "description": "Clear",
       "layout": "IPY_MODEL_23b7730347e744608f1608c22acaae4e",
       "style": "IPY_MODEL_13c25456a2a34d85938eb7c912fa442a"
      }
     },
     "85e1292494cb4e31881d0eaa8f882ec9": {
      "model_module": "@jupyter-widgets/base",
      "model_module_version": "1.2.0",
      "model_name": "LayoutModel",
      "state": {
       "grid_area": "left"
      }
     },
     "85fa4396792b475bb135f8096d9e2566": {
      "model_module": "@jupyter-widgets/controls",
      "model_module_version": "1.5.0",
      "model_name": "ButtonModel",
      "state": {
       "icon": "close",
       "layout": "IPY_MODEL_34b63c5030c24ca19b86fcb104a6d2ee",
       "style": "IPY_MODEL_8650853d10bd4ed891a016b701c84234"
      }
     },
     "8650853d10bd4ed891a016b701c84234": {
      "model_module": "@jupyter-widgets/controls",
      "model_module_version": "1.5.0",
      "model_name": "ButtonStyleModel",
      "state": {
       "button_color": "white"
      }
     },
     "87928e67b78d413cba651ff72ac04b82": {
      "model_module": "@jupyter-widgets/base",
      "model_module_version": "1.2.0",
      "model_name": "LayoutModel",
      "state": {
       "width": "70px"
      }
     },
     "8ff4493f860f4c9483a7cab66e751bfe": {
      "model_module": "@jupyter-widgets/controls",
      "model_module_version": "1.5.0",
      "model_name": "HTMLModel",
      "state": {
       "layout": "IPY_MODEL_03ec82d91d884942a8ddf5d5347b8a77",
       "style": "IPY_MODEL_70e9cefed10b4a419e178f9f86e109d5",
       "value": "-"
      }
     },
     "9256b997ecea456fafe3ad68f064e79d": {
      "model_module": "@jupyter-widgets/base",
      "model_module_version": "1.2.0",
      "model_name": "LayoutModel",
      "state": {
       "width": "190px"
      }
     },
     "935f8265b32e436d9f687fcf4443a9c2": {
      "model_module": "@jupyter-widgets/controls",
      "model_module_version": "1.5.0",
      "model_name": "GridBoxModel",
      "state": {
       "children": [
        "IPY_MODEL_8508c393a5ab46ac8592cf417df87601"
       ],
       "layout": "IPY_MODEL_5fb487af19014e42b0efce0ec47de83d"
      }
     },
     "99d46c4f2a704dc9aedc0204be35d2ab": {
      "model_module": "@jupyter-widgets/base",
      "model_module_version": "1.2.0",
      "model_name": "LayoutModel",
      "state": {
       "width": "145px"
      }
     },
     "9b5bd8cac742460e96f63becedabed6d": {
      "model_module": "@jupyter-widgets/base",
      "model_module_version": "1.2.0",
      "model_name": "LayoutModel",
      "state": {
       "width": "145px"
      }
     },
     "9bc8e85a60374ecaa684cf630890040f": {
      "model_module": "@jupyter-widgets/controls",
      "model_module_version": "1.5.0",
      "model_name": "DescriptionStyleModel",
      "state": {
       "description_width": ""
      }
     },
     "9ffa2831aa444d82adf0790984c51c8e": {
      "model_module": "@jupyter-widgets/controls",
      "model_module_version": "1.5.0",
      "model_name": "HTMLModel",
      "state": {
       "layout": "IPY_MODEL_bdc044d4d4cd404ead4666460503fe37",
       "style": "IPY_MODEL_df90e997cd9341778954d2a5e59fef42",
       "value": "<p style='font-family: IBM Plex Sans, Arial, Helvetica, sans-serif; font-size: 20px; font-weight: medium;'>Circuit Properties</p>"
      }
     },
     "a0fd3ea238ae44548eda92a69b71f3d6": {
      "model_module": "@jupyter-widgets/base",
      "model_module_version": "1.2.0",
      "model_name": "LayoutModel",
      "state": {
       "grid_area": "bottom",
       "width": "auto"
      }
     },
     "ab20f41496be4ad9a4ac1d8a775c2cd4": {
      "model_module": "@jupyter-widgets/base",
      "model_module_version": "1.2.0",
      "model_name": "LayoutModel",
      "state": {
       "overflow_x": "scroll"
      }
     },
     "ac4856b47471405c995013a5b1b816a8": {
      "model_module": "@jupyter-widgets/controls",
      "model_module_version": "1.5.0",
      "model_name": "TabModel",
      "state": {
       "layout": "IPY_MODEL_0a92b26b35f34679ad9713d2a8918411"
      }
     },
     "af078fbe4d81459586d4e25439caa5e9": {
      "model_module": "@jupyter-widgets/controls",
      "model_module_version": "1.5.0",
      "model_name": "DescriptionStyleModel",
      "state": {
       "description_width": ""
      }
     },
     "b3c0b5e003d1498da475aac7f127c2c7": {
      "model_module": "@jupyter-widgets/controls",
      "model_module_version": "1.5.0",
      "model_name": "DescriptionStyleModel",
      "state": {
       "description_width": ""
      }
     },
     "b487ab0b9a8549fe91212f05412a518a": {
      "model_module": "@jupyter-widgets/base",
      "model_module_version": "1.2.0",
      "model_name": "LayoutModel",
      "state": {}
     },
     "b58cce5a38d64645a11de2a8e9a34682": {
      "model_module": "@jupyter-widgets/controls",
      "model_module_version": "1.5.0",
      "model_name": "HTMLModel",
      "state": {
       "layout": "IPY_MODEL_9b5bd8cac742460e96f63becedabed6d",
       "style": "IPY_MODEL_fec4ab4076da40b5a63aee22f3644e33",
       "value": "ibmq_manila"
      }
     },
     "b5f03deba33949daad1ac9a6fd17afe1": {
      "model_module": "@jupyter-widgets/controls",
      "model_module_version": "1.5.0",
      "model_name": "HTMLModel",
      "state": {
       "layout": "IPY_MODEL_b9540e70c1cb4e72b0dbe91ea933f8c5",
       "style": "IPY_MODEL_f5c23980bd0c4e778ce81f9fb33fff07",
       "value": "<div><font style='font-weight:bold'>last_update_date</font>: Wed 15 December 2021 at 08:03 UTC</div>"
      }
     },
     "b9540e70c1cb4e72b0dbe91ea933f8c5": {
      "model_module": "@jupyter-widgets/base",
      "model_module_version": "1.2.0",
      "model_name": "LayoutModel",
      "state": {}
     },
     "bdc044d4d4cd404ead4666460503fe37": {
      "model_module": "@jupyter-widgets/base",
      "model_module_version": "1.2.0",
      "model_name": "LayoutModel",
      "state": {
       "margin": "0px 0px 10px 0px"
      }
     },
     "bf24cb0fccaf4c5da87131897bb97122": {
      "model_module": "@jupyter-widgets/controls",
      "model_module_version": "1.5.0",
      "model_name": "HTMLModel",
      "state": {
       "layout": "IPY_MODEL_59eb3454cb9b4403b03989293e399fd0",
       "style": "IPY_MODEL_d22ccde8795f49e18189578a6f7a15cc",
       "value": "<div><font style='font-weight:bold'>last_update_date</font>: 2021-12-15 08:03:21+00:00</div>"
      }
     },
     "bfb80e418e384875a13443ac0a82deac": {
      "model_module": "@jupyter-widgets/base",
      "model_module_version": "1.2.0",
      "model_name": "LayoutModel",
      "state": {
       "width": "70px"
      }
     },
     "bfd77e6f1eb64963be783917e5b3b7db": {
      "model_module": "@jupyter-widgets/base",
      "model_module_version": "1.2.0",
      "model_name": "LayoutModel",
      "state": {
       "align_items": "center",
       "display": "flex-inline",
       "grid_area": "right",
       "max_height": "325px",
       "padding": "10px 10px 10px 10px",
       "width": "auto"
      }
     },
     "c246a72b84f44bb3891c6648aee021e3": {
      "model_module": "@jupyter-widgets/controls",
      "model_module_version": "1.5.0",
      "model_name": "DescriptionStyleModel",
      "state": {
       "description_width": ""
      }
     },
     "c74a60f0a3434e40ac3534f7e15b9f0c": {
      "model_module": "@jupyter-widgets/controls",
      "model_module_version": "1.5.0",
      "model_name": "HTMLModel",
      "state": {
       "layout": "IPY_MODEL_ab20f41496be4ad9a4ac1d8a775c2cd4",
       "style": "IPY_MODEL_0afb56a5be994294b6d1e67219cb8f39",
       "value": "job has successfully run"
      }
     },
     "cad42ab20a9647e9ad9c173ba4c12d49": {
      "model_module": "@jupyter-widgets/output",
      "model_module_version": "1.0.0",
      "model_name": "OutputModel",
      "state": {
       "layout": "IPY_MODEL_edcdcfdbce2943f9beea10c4b54504c4",
       "outputs": [
        {
         "data": {
          "image/png": "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\n",
          "text/plain": "<Figure size 1100x900 with 5 Axes>"
         },
         "metadata": {},
         "output_type": "display_data"
        }
       ]
      }
     },
     "cc9cc6c514314ee99523124f71762172": {
      "model_module": "@jupyter-widgets/controls",
      "model_module_version": "1.5.0",
      "model_name": "DescriptionStyleModel",
      "state": {
       "description_width": ""
      }
     },
     "cccba64deeea4322b0d3ac643caf2e4b": {
      "model_module": "@jupyter-widgets/base",
      "model_module_version": "1.2.0",
      "model_name": "LayoutModel",
      "state": {
       "overflow_x": "scroll"
      }
     },
     "cde96fe4d575427a814e91aa2ea6723f": {
      "model_module": "@jupyter-widgets/base",
      "model_module_version": "1.2.0",
      "model_name": "LayoutModel",
      "state": {
       "overflow_y": "scroll"
      }
     },
     "cf339a7c238c4563953eee1f5d195a98": {
      "model_module": "@jupyter-widgets/controls",
      "model_module_version": "1.5.0",
      "model_name": "HTMLModel",
      "state": {
       "layout": "IPY_MODEL_2727c18e02be4f8bb1d1b21a873b6270",
       "style": "IPY_MODEL_2fe68d4f12414ee1a73dabf0e8640d0e",
       "value": "<font style='color:#34BC6E'>DONE</font>"
      }
     },
     "d0399ae2fe784e25bfa72537034bf0ba": {
      "model_module": "@jupyter-widgets/controls",
      "model_module_version": "1.5.0",
      "model_name": "HTMLModel",
      "state": {
       "layout": "IPY_MODEL_7e6a0609e4b24007a026bb59d7c7677e",
       "style": "IPY_MODEL_7a8950ec6fb947429efa05a1ed39f806",
       "value": "61b9a81ede9f2443767146f5"
      }
     },
     "d1138ba47c4b440e845b15f29408f85e": {
      "model_module": "@jupyter-widgets/base",
      "model_module_version": "1.2.0",
      "model_name": "LayoutModel",
      "state": {
       "grid_gap": "0px 0px",
       "grid_template_areas": "\n                                                   \"top top top\"\n                                                   \"left middle right\"\n                                                   ",
       "grid_template_columns": "33% 33% 33%",
       "grid_template_rows": "auto auto"
      }
     },
     "d15806e63aac4454b6a4d1bc5dbf279a": {
      "model_module": "@jupyter-widgets/controls",
      "model_module_version": "1.5.0",
      "model_name": "GridBoxModel",
      "state": {
       "children": [
        "IPY_MODEL_e2363cb9d14243a09840b6e727932047",
        "IPY_MODEL_4a7637df517249baa2b50767c784b662",
        "IPY_MODEL_359fe2ecf62645e0b222158332b07740"
       ],
       "layout": "IPY_MODEL_4ba313ae8f4b47588547e3c4b465ff50"
      }
     },
     "d21214b188894df0a306ca7b51785fd7": {
      "model_module": "@jupyter-widgets/controls",
      "model_module_version": "1.5.0",
      "model_name": "HBoxModel",
      "state": {
       "children": [
        "IPY_MODEL_7a6536159cc0460eb7a4d3a636d2a531",
        "IPY_MODEL_6e0d86a2f4554e22970c5d47a19202b5",
        "IPY_MODEL_4c85446b1e3f424fa8ce8d6fb9bbfff4",
        "IPY_MODEL_7ea617d2fddd45d28bf795d83c374b16",
        "IPY_MODEL_dc12d42b7a6740e38c03ce2679e0b916"
       ],
       "layout": "IPY_MODEL_e09d60c257c74bdd8b64c1b00986d808"
      }
     },
     "d22ccde8795f49e18189578a6f7a15cc": {
      "model_module": "@jupyter-widgets/controls",
      "model_module_version": "1.5.0",
      "model_name": "DescriptionStyleModel",
      "state": {
       "description_width": ""
      }
     },
     "d4c31e7d0ec04bfea3f532531eaf76ba": {
      "model_module": "@jupyter-widgets/base",
      "model_module_version": "1.2.0",
      "model_name": "LayoutModel",
      "state": {}
     },
     "d5e49243becf47e9a5236f22722eb491": {
      "model_module": "@jupyter-widgets/base",
      "model_module_version": "1.2.0",
      "model_name": "LayoutModel",
      "state": {}
     },
     "d864652b8d594defaed85f2db069d300": {
      "model_module": "@jupyter-widgets/controls",
      "model_module_version": "1.5.0",
      "model_name": "DescriptionStyleModel",
      "state": {
       "description_width": ""
      }
     },
     "db36886ee177475ea2a3b0b5eb82acc5": {
      "model_module": "@jupyter-widgets/controls",
      "model_module_version": "1.5.0",
      "model_name": "VBoxModel",
      "state": {
       "children": [
        "IPY_MODEL_8442954287c940bfaee93890992fa1f8",
        "IPY_MODEL_fb22e50e099e429fbb27dad8060d7449"
       ],
       "layout": "IPY_MODEL_78179022364f47f9aab53091000da300"
      }
     },
     "dc12d42b7a6740e38c03ce2679e0b916": {
      "model_module": "@jupyter-widgets/controls",
      "model_module_version": "1.5.0",
      "model_name": "HTMLModel",
      "state": {
       "layout": "IPY_MODEL_d5e49243becf47e9a5236f22722eb491",
       "style": "IPY_MODEL_17306e223da341b99c7016dcbff997fc",
       "value": "<h5>Message</h5>"
      }
     },
     "df90e997cd9341778954d2a5e59fef42": {
      "model_module": "@jupyter-widgets/controls",
      "model_module_version": "1.5.0",
      "model_name": "DescriptionStyleModel",
      "state": {
       "description_width": ""
      }
     },
     "e09d60c257c74bdd8b64c1b00986d808": {
      "model_module": "@jupyter-widgets/base",
      "model_module_version": "1.2.0",
      "model_name": "LayoutModel",
      "state": {
       "margin": "0px 0px 0px 37px",
       "width": "600px"
      }
     },
     "e2363cb9d14243a09840b6e727932047": {
      "model_module": "@jupyter-widgets/controls",
      "model_module_version": "1.5.0",
      "model_name": "HTMLMathModel",
      "state": {
       "layout": "IPY_MODEL_46484fc8b84448ad95862aa9d239b237",
       "style": "IPY_MODEL_b3c0b5e003d1498da475aac7f127c2c7",
       "value": "<table><style>\ntable {\n    border-collapse: collapse;\n    width: auto;\n}\n\nth, td {\n    text-align: left;\n    padding: 8px;\n}\n\ntr:nth-child(even) {background-color: #f6f6f6;}\n</style><tr><th>Property</th><th>Value</th></tr><tr><td><font style='font-weight:bold'>n_qubits</font></td><td>5</td></tr><tr><td><font style='font-weight:bold'>quantum_volume</font></td><td>32</td></tr><tr><td><font style='font-weight:bold'>operational</font></td><td>True</td></tr><tr><td><font style='font-weight:bold'>status_msg</font></td><td>active</td></tr><tr><td><font style='font-weight:bold'>pending_jobs</font></td><td>33</td></tr><tr><td><font style='font-weight:bold'>backend_version</font></td><td>1.0.22</td></tr><tr><td><font style='font-weight:bold'>basis_gates</font></td><td>['id', 'rz', 'sx', 'x', 'cx', 'reset']</td></tr><tr><td><font style='font-weight:bold'>max_shots</font></td><td>20000</td></tr><tr><td><font style='font-weight:bold'>max_experiments</font></td><td>100</td></tr></table>"
      }
     },
     "e2df9faf0ce14afc9be12eaaf25f9d84": {
      "model_module": "@jupyter-widgets/base",
      "model_module_version": "1.2.0",
      "model_name": "LayoutModel",
      "state": {
       "max_width": "700px",
       "min_width": "700px"
      }
     },
     "e544fa24c2b14fd39884480b2d860dcb": {
      "model_module": "@jupyter-widgets/base",
      "model_module_version": "1.2.0",
      "model_name": "LayoutModel",
      "state": {
       "grid_area": "middle"
      }
     },
     "ec81d56485bc4effaeb1f06423ec2543": {
      "model_module": "@jupyter-widgets/controls",
      "model_module_version": "1.5.0",
      "model_name": "HTMLModel",
      "state": {
       "layout": "IPY_MODEL_e544fa24c2b14fd39884480b2d860dcb",
       "style": "IPY_MODEL_c246a72b84f44bb3891c6648aee021e3",
       "value": "<table><style>\ntable {\n    border-collapse: collapse;\n    width: auto;\n}\n\nth, td {\n    text-align: left;\n    padding: 8px;\n}\n\ntr:nth-child(even) {background-color: #f6f6f6;};\n</style><tr><th></th><th>Type</th><th>Gate error</th></tr><tr><td><font style='font-weight:bold'>cx1_0</font></td><td>cx</td><td>0.00566</td></tr><tr><td><font style='font-weight:bold'>cx1_2</font></td><td>cx</td><td>0.01618</td></tr><tr><td><font style='font-weight:bold'>cx2_1</font></td><td>cx</td><td>0.01618</td></tr></table>"
      }
     },
     "edcdcfdbce2943f9beea10c4b54504c4": {
      "model_module": "@jupyter-widgets/base",
      "model_module_version": "1.2.0",
      "model_name": "LayoutModel",
      "state": {
       "align_items": "center",
       "display": "flex-inline"
      }
     },
     "f5c23980bd0c4e778ce81f9fb33fff07": {
      "model_module": "@jupyter-widgets/controls",
      "model_module_version": "1.5.0",
      "model_name": "DescriptionStyleModel",
      "state": {
       "description_width": ""
      }
     },
     "f89034d198254241ad21d7c5d0488dd4": {
      "model_module": "@jupyter-widgets/controls",
      "model_module_version": "1.5.0",
      "model_name": "HTMLModel",
      "state": {
       "layout": "IPY_MODEL_cccba64deeea4322b0d3ac643caf2e4b",
       "style": "IPY_MODEL_62c993f494684f518b7288597fe5c61d",
       "value": "job has successfully run"
      }
     },
     "fb22e50e099e429fbb27dad8060d7449": {
      "model_module": "@jupyter-widgets/controls",
      "model_module_version": "1.5.0",
      "model_name": "TabModel",
      "state": {
       "_titles": {
        "0": "Configuration",
        "1": "Qubit Properties",
        "2": "Multi-Qubit Gates",
        "3": "Error Map",
        "4": "Job History"
       },
       "children": [
        "IPY_MODEL_d15806e63aac4454b6a4d1bc5dbf279a",
        "IPY_MODEL_4eac17c7c36749678ece8e5e0f512b44",
        "IPY_MODEL_08cc0bdd58eb48edad83ba9766f3de17",
        "IPY_MODEL_cad42ab20a9647e9ad9c173ba4c12d49",
        "IPY_MODEL_ac4856b47471405c995013a5b1b816a8"
       ],
       "layout": "IPY_MODEL_cde96fe4d575427a814e91aa2ea6723f"
      }
     },
     "fe147e28c89046f380864b20caadb2b7": {
      "model_module": "@jupyter-widgets/controls",
      "model_module_version": "1.5.0",
      "model_name": "HTMLModel",
      "state": {
       "layout": "IPY_MODEL_49a8d0e44a08427899003b00c2f02695",
       "style": "IPY_MODEL_3800d696e9804b40a468ec5754aa85e8",
       "value": "61b9a821dc3b19c47c795529"
      }
     },
     "fec4ab4076da40b5a63aee22f3644e33": {
      "model_module": "@jupyter-widgets/controls",
      "model_module_version": "1.5.0",
      "model_name": "DescriptionStyleModel",
      "state": {
       "description_width": ""
      }
     }
    },
    "version_major": 2,
    "version_minor": 0
   }
  }
 },
 "nbformat": 4,
 "nbformat_minor": 5
}
